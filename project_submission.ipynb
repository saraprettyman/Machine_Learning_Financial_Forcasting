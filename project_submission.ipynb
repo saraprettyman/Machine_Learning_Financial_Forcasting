{
 "cells": [
  {
   "cell_type": "markdown",
   "metadata": {},
   "source": [
    "# CS4320 Introduction to Machine Learning\n",
    "\n",
    "**Please type your group name here:**\n"
   ]
  },
  {
   "cell_type": "code",
   "execution_count": 1,
   "metadata": {},
   "outputs": [],
   "source": [
    "GroupName = \"NoProblem\"\n",
    "assert GroupName != \"\", 'Please enter your name in the above quotation marks, thanks!'"
   ]
  },
  {
   "cell_type": "markdown",
   "metadata": {},
   "source": [
    "## Table of contents\n",
    "\n",
    "1. [Understanding the problem](#1)\n",
    "2. [Imports](#2)\n",
    "   1. [Importing Packages](#2a)\n",
    "   2. [Data splitting](#2b)\n",
    "3. [EDA](#3)\n",
    "4. [Feature engineering](#4)\n",
    "5. [Preprocessing and transformations](#5)\n",
    "6. [Baseline model](#6)\n",
    "7. [Linear models](#7)\n",
    "8. [Different models](#8)\n",
    "9. [Feature selection](#9)\n",
    "10. [Hyperparameter optimization](#10)\n",
    "11. [Interpretation and feature importances](#11)\n",
    "12. [Results on the test set](#12)\n",
    "13. [Submit the predictions to Kaggle](#13)\n",
    "14. [Your takeaway from the course](#14)\n"
   ]
  },
  {
   "cell_type": "markdown",
   "metadata": {},
   "source": [
    "<!-- BEGIN QUESTION -->\n",
    "\n",
    "## 1 Prediction Problem and Explaination <a name=\"1\"></a>\n",
    "\n",
    "<hr>\n",
    "\n",
    "**Spend some time understanding the problem and what each feature means. Write a few sentences on your initial thoughts on the problem and the dataset.**\n"
   ]
  },
  {
   "cell_type": "markdown",
   "metadata": {},
   "source": [
    "The problem is to forecast store sales for _Corporación Favorita_, a large Ecuadorian-based grocery retailer. The goal is to use previous sales data. The previously sales data is _family_ category which has a _store_nbr_, total number of items in that category that were _onpromotion_ that day, the specific date, and the total items sold that day for that family. The dates are able to be cross referenced with holidays in order to get a better time prediction. The family I am assuming will be very time dependent as needed change over the course of the year and many sales in my experience are holiday dependent.\n"
   ]
  },
  {
   "cell_type": "markdown",
   "metadata": {},
   "source": [
    "<!-- END QUESTION -->\n",
    "\n",
    "<br><br>\n"
   ]
  },
  {
   "cell_type": "markdown",
   "metadata": {},
   "source": [
    "## 2 Imports <a name=\"2\"></a>\n",
    "\n",
    "<hr>\n"
   ]
  },
  {
   "cell_type": "markdown",
   "metadata": {},
   "source": [
    "### 2a Importing Packages <a name=\"2a\"></a>\n",
    "\n",
    "<hr>\n",
    "\n",
    "**Import all necessary packages**\n"
   ]
  },
  {
   "cell_type": "code",
   "execution_count": 2,
   "metadata": {},
   "outputs": [],
   "source": [
    "import pandas as pd\n",
    "import matplotlib.pyplot as plt\n",
    "from sklearn.compose import make_column_transformer\n",
    "from sklearn.preprocessing import OneHotEncoder\n",
    "from sklearn.dummy import DummyClassifier\n",
    "from sklearn.tree import DecisionTreeRegressor\n",
    "from sklearn.preprocessing import StandardScaler\n",
    "from sklearn.ensemble import RandomForestRegressor\n",
    "from sklearn.model_selection import train_test_split\n",
    "from sklearn.linear_model import Ridge\n",
    "from sklearn.pipeline import make_pipeline\n",
    "from sklearn.model_selection import RandomizedSearchCV\n",
    "import numpy as np\n",
    "import seaborn as sns\n",
    "from sklearn.model_selection import cross_validate\n",
    "from sklearn.neighbors import KNeighborsRegressor\n",
    "from sklearn.tree import DecisionTreeRegressor\n",
    "from sklearn.svm import SVC"
   ]
  },
  {
   "cell_type": "markdown",
   "metadata": {},
   "source": [
    "<!-- BEGIN QUESTION -->\n",
    "\n",
    "### 2b Data splitting <a name=\"2b\"></a>\n",
    "\n",
    "<hr>\n",
    "\n",
    "**Split the data into train and test portions. Note that the test.csv is the end file to test, not the data split for testing**\n"
   ]
  },
  {
   "cell_type": "code",
   "execution_count": 3,
   "metadata": {},
   "outputs": [],
   "source": [
    "dataset_df = pd.read_csv('data/train.csv')\n",
    "final_test_df = pd.read_csv('data/test.csv')"
   ]
  },
  {
   "cell_type": "code",
   "execution_count": 4,
   "metadata": {},
   "outputs": [],
   "source": [
    "# split into train and test sets\n",
    "train_df, test_df = train_test_split(dataset_df, test_size=0.2, random_state=42)"
   ]
  },
  {
   "cell_type": "markdown",
   "metadata": {},
   "source": [
    "<!-- END QUESTION -->\n",
    "\n",
    "<br><br>\n"
   ]
  },
  {
   "cell_type": "markdown",
   "metadata": {},
   "source": [
    "<!-- BEGIN QUESTION -->\n",
    "\n",
    "## 3. EDA <a name=\"3\"></a>\n",
    "\n",
    "<hr>\n"
   ]
  },
  {
   "cell_type": "markdown",
   "metadata": {},
   "source": [
    "### Perform exploratory data analysis on the train set, including summary statistics\n"
   ]
  },
  {
   "cell_type": "code",
   "execution_count": 5,
   "metadata": {},
   "outputs": [
    {
     "data": {
      "text/html": [
       "<div>\n",
       "<style scoped>\n",
       "    .dataframe tbody tr th:only-of-type {\n",
       "        vertical-align: middle;\n",
       "    }\n",
       "\n",
       "    .dataframe tbody tr th {\n",
       "        vertical-align: top;\n",
       "    }\n",
       "\n",
       "    .dataframe thead th {\n",
       "        text-align: right;\n",
       "    }\n",
       "</style>\n",
       "<table border=\"1\" class=\"dataframe\">\n",
       "  <thead>\n",
       "    <tr style=\"text-align: right;\">\n",
       "      <th></th>\n",
       "      <th>id</th>\n",
       "      <th>date</th>\n",
       "      <th>store_nbr</th>\n",
       "      <th>family</th>\n",
       "      <th>sales</th>\n",
       "      <th>onpromotion</th>\n",
       "    </tr>\n",
       "  </thead>\n",
       "  <tbody>\n",
       "    <tr>\n",
       "      <th>2902383</th>\n",
       "      <td>2902383</td>\n",
       "      <td>2017-06-21</td>\n",
       "      <td>45</td>\n",
       "      <td>AUTOMOTIVE</td>\n",
       "      <td>13.000</td>\n",
       "      <td>2</td>\n",
       "    </tr>\n",
       "    <tr>\n",
       "      <th>1651514</th>\n",
       "      <td>1651514</td>\n",
       "      <td>2015-07-18</td>\n",
       "      <td>47</td>\n",
       "      <td>PREPARED FOODS</td>\n",
       "      <td>325.525</td>\n",
       "      <td>0</td>\n",
       "    </tr>\n",
       "    <tr>\n",
       "      <th>1948349</th>\n",
       "      <td>1948349</td>\n",
       "      <td>2016-01-02</td>\n",
       "      <td>26</td>\n",
       "      <td>PREPARED FOODS</td>\n",
       "      <td>4.000</td>\n",
       "      <td>0</td>\n",
       "    </tr>\n",
       "    <tr>\n",
       "      <th>2893871</th>\n",
       "      <td>2893871</td>\n",
       "      <td>2017-06-16</td>\n",
       "      <td>7</td>\n",
       "      <td>BEAUTY</td>\n",
       "      <td>5.000</td>\n",
       "      <td>1</td>\n",
       "    </tr>\n",
       "    <tr>\n",
       "      <th>2867501</th>\n",
       "      <td>2867501</td>\n",
       "      <td>2017-06-02</td>\n",
       "      <td>16</td>\n",
       "      <td>SEAFOOD</td>\n",
       "      <td>4.000</td>\n",
       "      <td>0</td>\n",
       "    </tr>\n",
       "  </tbody>\n",
       "</table>\n",
       "</div>"
      ],
      "text/plain": [
       "              id        date  store_nbr          family    sales  onpromotion\n",
       "2902383  2902383  2017-06-21         45      AUTOMOTIVE   13.000            2\n",
       "1651514  1651514  2015-07-18         47  PREPARED FOODS  325.525            0\n",
       "1948349  1948349  2016-01-02         26  PREPARED FOODS    4.000            0\n",
       "2893871  2893871  2017-06-16          7          BEAUTY    5.000            1\n",
       "2867501  2867501  2017-06-02         16         SEAFOOD    4.000            0"
      ]
     },
     "metadata": {},
     "output_type": "display_data"
    },
    {
     "name": "stdout",
     "output_type": "stream",
     "text": [
      "<class 'pandas.core.frame.DataFrame'>\n",
      "Int64Index: 2400710 entries, 2902383 to 2219110\n",
      "Data columns (total 6 columns):\n",
      " #   Column       Dtype  \n",
      "---  ------       -----  \n",
      " 0   id           int64  \n",
      " 1   date         object \n",
      " 2   store_nbr    int64  \n",
      " 3   family       object \n",
      " 4   sales        float64\n",
      " 5   onpromotion  int64  \n",
      "dtypes: float64(1), int64(3), object(2)\n",
      "memory usage: 128.2+ MB\n"
     ]
    },
    {
     "data": {
      "text/plain": [
       "None"
      ]
     },
     "metadata": {},
     "output_type": "display_data"
    },
    {
     "data": {
      "text/plain": [
       "'Numerical Data Description'"
      ]
     },
     "metadata": {},
     "output_type": "display_data"
    },
    {
     "data": {
      "text/html": [
       "<div>\n",
       "<style scoped>\n",
       "    .dataframe tbody tr th:only-of-type {\n",
       "        vertical-align: middle;\n",
       "    }\n",
       "\n",
       "    .dataframe tbody tr th {\n",
       "        vertical-align: top;\n",
       "    }\n",
       "\n",
       "    .dataframe thead th {\n",
       "        text-align: right;\n",
       "    }\n",
       "</style>\n",
       "<table border=\"1\" class=\"dataframe\">\n",
       "  <thead>\n",
       "    <tr style=\"text-align: right;\">\n",
       "      <th></th>\n",
       "      <th>id</th>\n",
       "      <th>store_nbr</th>\n",
       "      <th>sales</th>\n",
       "      <th>onpromotion</th>\n",
       "    </tr>\n",
       "  </thead>\n",
       "  <tbody>\n",
       "    <tr>\n",
       "      <th>count</th>\n",
       "      <td>2400710.00</td>\n",
       "      <td>2400710.00</td>\n",
       "      <td>2400710.00</td>\n",
       "      <td>2400710.00</td>\n",
       "    </tr>\n",
       "    <tr>\n",
       "      <th>mean</th>\n",
       "      <td>1500313.46</td>\n",
       "      <td>27.50</td>\n",
       "      <td>357.30</td>\n",
       "      <td>2.60</td>\n",
       "    </tr>\n",
       "    <tr>\n",
       "      <th>std</th>\n",
       "      <td>866215.99</td>\n",
       "      <td>15.59</td>\n",
       "      <td>1098.77</td>\n",
       "      <td>12.23</td>\n",
       "    </tr>\n",
       "    <tr>\n",
       "      <th>min</th>\n",
       "      <td>0.00</td>\n",
       "      <td>1.00</td>\n",
       "      <td>0.00</td>\n",
       "      <td>0.00</td>\n",
       "    </tr>\n",
       "    <tr>\n",
       "      <th>25%</th>\n",
       "      <td>750240.50</td>\n",
       "      <td>14.00</td>\n",
       "      <td>0.00</td>\n",
       "      <td>0.00</td>\n",
       "    </tr>\n",
       "    <tr>\n",
       "      <th>50%</th>\n",
       "      <td>1500391.50</td>\n",
       "      <td>27.00</td>\n",
       "      <td>11.00</td>\n",
       "      <td>0.00</td>\n",
       "    </tr>\n",
       "    <tr>\n",
       "      <th>75%</th>\n",
       "      <td>2250049.75</td>\n",
       "      <td>41.00</td>\n",
       "      <td>195.77</td>\n",
       "      <td>0.00</td>\n",
       "    </tr>\n",
       "    <tr>\n",
       "      <th>max</th>\n",
       "      <td>3000887.00</td>\n",
       "      <td>54.00</td>\n",
       "      <td>124717.00</td>\n",
       "      <td>741.00</td>\n",
       "    </tr>\n",
       "  </tbody>\n",
       "</table>\n",
       "</div>"
      ],
      "text/plain": [
       "              id  store_nbr      sales  onpromotion\n",
       "count 2400710.00 2400710.00 2400710.00   2400710.00\n",
       "mean  1500313.46      27.50     357.30         2.60\n",
       "std    866215.99      15.59    1098.77        12.23\n",
       "min         0.00       1.00       0.00         0.00\n",
       "25%    750240.50      14.00       0.00         0.00\n",
       "50%   1500391.50      27.00      11.00         0.00\n",
       "75%   2250049.75      41.00     195.77         0.00\n",
       "max   3000887.00      54.00  124717.00       741.00"
      ]
     },
     "metadata": {},
     "output_type": "display_data"
    },
    {
     "data": {
      "text/plain": [
       "'Categorical Data Description'"
      ]
     },
     "metadata": {},
     "output_type": "display_data"
    },
    {
     "data": {
      "text/html": [
       "<div>\n",
       "<style scoped>\n",
       "    .dataframe tbody tr th:only-of-type {\n",
       "        vertical-align: middle;\n",
       "    }\n",
       "\n",
       "    .dataframe tbody tr th {\n",
       "        vertical-align: top;\n",
       "    }\n",
       "\n",
       "    .dataframe thead th {\n",
       "        text-align: right;\n",
       "    }\n",
       "</style>\n",
       "<table border=\"1\" class=\"dataframe\">\n",
       "  <thead>\n",
       "    <tr style=\"text-align: right;\">\n",
       "      <th></th>\n",
       "      <th>date</th>\n",
       "      <th>family</th>\n",
       "    </tr>\n",
       "  </thead>\n",
       "  <tbody>\n",
       "    <tr>\n",
       "      <th>count</th>\n",
       "      <td>2400710</td>\n",
       "      <td>2400710</td>\n",
       "    </tr>\n",
       "    <tr>\n",
       "      <th>unique</th>\n",
       "      <td>1684</td>\n",
       "      <td>33</td>\n",
       "    </tr>\n",
       "    <tr>\n",
       "      <th>top</th>\n",
       "      <td>2015-12-04</td>\n",
       "      <td>BEAUTY</td>\n",
       "    </tr>\n",
       "    <tr>\n",
       "      <th>freq</th>\n",
       "      <td>1478</td>\n",
       "      <td>73044</td>\n",
       "    </tr>\n",
       "  </tbody>\n",
       "</table>\n",
       "</div>"
      ],
      "text/plain": [
       "              date   family\n",
       "count      2400710  2400710\n",
       "unique        1684       33\n",
       "top     2015-12-04   BEAUTY\n",
       "freq          1478    73044"
      ]
     },
     "metadata": {},
     "output_type": "display_data"
    },
    {
     "data": {
      "text/plain": [
       "'Family (Category) Counts'"
      ]
     },
     "metadata": {},
     "output_type": "display_data"
    },
    {
     "data": {
      "text/plain": [
       "BEAUTY                        73044\n",
       "GROCERY II                    72983\n",
       "HOME CARE                     72955\n",
       "AUTOMOTIVE                    72884\n",
       "PERSONAL CARE                 72868\n",
       "POULTRY                       72836\n",
       "PRODUCE                       72832\n",
       "BREAD/BAKERY                  72817\n",
       "LADIESWEAR                    72816\n",
       "LAWN AND GARDEN               72816\n",
       "HARDWARE                      72803\n",
       "DELI                          72790\n",
       "GROCERY I                     72788\n",
       "FROZEN FOODS                  72780\n",
       "SCHOOL AND OFFICE SUPPLIES    72774\n",
       "PLAYERS AND ELECTRONICS       72772\n",
       "HOME AND KITCHEN II           72764\n",
       "MEATS                         72751\n",
       "BABY CARE                     72743\n",
       "PREPARED FOODS                72696\n",
       "LINGERIE                      72692\n",
       "MAGAZINES                     72692\n",
       "HOME AND KITCHEN I            72682\n",
       "EGGS                          72646\n",
       "SEAFOOD                       72638\n",
       "CELEBRATION                   72636\n",
       "BEVERAGES                     72627\n",
       "CLEANING                      72624\n",
       "HOME APPLIANCES               72621\n",
       "PET SUPPLIES                  72606\n",
       "LIQUOR,WINE,BEER              72603\n",
       "DAIRY                         72568\n",
       "BOOKS                         72563\n",
       "Name: family, dtype: int64"
      ]
     },
     "metadata": {},
     "output_type": "display_data"
    }
   ],
   "source": [
    "display(train_df.head())\n",
    "display(train_df.info())\n",
    "\n",
    "pd.set_option('display.float_format', '{:.2f}'.format)\n",
    "\n",
    "display(\"Numerical Data Description\")\n",
    "display(train_df.describe(include=['int64', 'float64']))\n",
    "\n",
    "display(\"Categorical Data Description\")\n",
    "display(train_df.describe(include=['object', 'datetime64'], datetime_is_numeric=True))\n",
    "\n",
    "display(\"Family (Category) Counts\")\n",
    "display(train_df['family'].value_counts())"
   ]
  },
  {
   "cell_type": "markdown",
   "metadata": {},
   "source": [
    "_Summary Statistics_\n",
    "\n",
    "1. Here, we can see that there are 2 discrete varaibles: _date_ (1684 dates ranging from 2013 to 2017) and _family_ (33 unique family categories which have equal statified counts).\n",
    "2. The rest of the variables are numerical: id (unique identifier), store_nbr (1-54), sales (appears to be skewed, need to see visualization), and onpromotion (appears to be skewed, need to see visualization).\n"
   ]
  },
  {
   "cell_type": "markdown",
   "metadata": {},
   "source": [
    "### Useful Visual Statistics\n"
   ]
  },
  {
   "cell_type": "code",
   "execution_count": 6,
   "metadata": {},
   "outputs": [
    {
     "data": {
      "image/png": "[encoded data removed]",
      "text/plain": [
       "<Figure size 1000x600 with 1 Axes>"
      ]
     },
     "metadata": {},
     "output_type": "display_data"
    },
    {
     "data": {
      "image/png": "[encoded data removed]",
      "text/plain": [
       "<Figure size 1000x600 with 1 Axes>"
      ]
     },
     "metadata": {},
     "output_type": "display_data"
    },
    {
     "data": {
      "image/png": "[encoded data removed]",
      "text/plain": [
       "<Figure size 1000x600 with 1 Axes>"
      ]
     },
     "metadata": {},
     "output_type": "display_data"
    }
   ],
   "source": [
    "\n",
    "eda_df = train_df.copy(deep=True)\n",
    "\n",
    "# Create bar plot for 'date'\n",
    "freq_df = eda_df['date'].value_counts().reset_index()\n",
    "plt.figure(figsize=(10, 6))\n",
    "sns.barplot(x='index', y='date', data=freq_df)\n",
    "plt.title('Bar plot of date')\n",
    "plt.xlabel('date')\n",
    "plt.xticks(np.arange(0, len(freq_df['index']), step=200), rotation=90)\n",
    "plt.text(0.5, -0.30, 'Figure 1', transform=plt.gca().transAxes, ha='center', va='center', fontsize=12, style='italic')\n",
    "plt.show()\n",
    "\n",
    "# Create bar plot for 'store_nbr'\n",
    "freq_df = eda_df['store_nbr'].value_counts().reset_index()\n",
    "plt.figure(figsize=(10, 6))\n",
    "sns.barplot(x='index', y='store_nbr', data=freq_df)\n",
    "plt.title('Bar plot of store_nbr')\n",
    "plt.xlabel('store_nbr')\n",
    "plt.xticks(rotation=90)\n",
    "plt.text(0.5, -0.15, 'Figure 2', transform=plt.gca().transAxes, ha='center', va='center', fontsize=12, style='italic')\n",
    "plt.show()\n",
    "\n",
    "# Create bar plot for 'family'\n",
    "freq_df = eda_df['family'].value_counts().reset_index()\n",
    "plt.figure(figsize=(10, 6))\n",
    "sns.barplot(x='index', y='family', data=freq_df)\n",
    "plt.title('Bar plot of family')\n",
    "plt.xlabel('family')\n",
    "plt.xticks(rotation=90)\n",
    "plt.text(0.5, -0.55, 'Figure 3', transform=plt.gca().transAxes, ha='center', va='center', fontsize=12, style='italic')\n",
    "plt.show()"
   ]
  },
  {
   "cell_type": "code",
   "execution_count": 7,
   "metadata": {},
   "outputs": [
    {
     "data": {
      "image/png": "[encoded data removed]",
      "text/plain": [
       "<Figure size 1000x600 with 1 Axes>"
      ]
     },
     "metadata": {},
     "output_type": "display_data"
    },
    {
     "data": {
      "image/png": "[encoded data removed]",
      "text/plain": [
       "<Figure size 1000x600 with 1 Axes>"
      ]
     },
     "metadata": {},
     "output_type": "display_data"
    }
   ],
   "source": [
    "# Show all sales \n",
    "plt.figure(figsize=(10, 6))\n",
    "sns.histplot(train_df['sales'], bins=20)\n",
    "plt.title('Histogram of Sales')\n",
    "plt.xlabel('Sales', fontsize=12)\n",
    "plt.text(0.5, -0.15, 'Figure 4', transform=plt.gca().transAxes, ha='center', va='center', fontsize=12, style='italic')\n",
    "plt.ylabel('Frequency')\n",
    "plt.show()\n",
    "\n",
    "# Show all onpromotion\n",
    "plt.figure(figsize=(10, 6))\n",
    "sns.histplot(train_df['onpromotion'], bins=20)\n",
    "plt.title('Histogram of Onpromotion')\n",
    "plt.xlabel('Onpromotion', fontsize=12)\n",
    "plt.text(0.5, -0.15, 'Figure 5', transform=plt.gca().transAxes, ha='center', va='center', fontsize=12, style='italic')\n",
    "plt.ylabel('Frequency')\n",
    "plt.show()"
   ]
  },
  {
   "cell_type": "code",
   "execution_count": 8,
   "metadata": {},
   "outputs": [
    {
     "name": "stdout",
     "output_type": "stream",
     "text": [
      "Ratio of Zero in Onpromotion: 0.80\n"
     ]
    }
   ],
   "source": [
    "''' We will test the Onpromotion variable, since it is an independent varaible, \n",
    "to see if Feature Cutting should be used. The feature cut would be the upper quantile'''\n",
    "\n",
    "onpromo_zero_cnt = len(train_df[train_df['onpromotion'] == 0])\n",
    "ratio = onpromo_zero_cnt / len(train_df)\n",
    "print(\"Ratio of Zero in Onpromotion: {:.2f}\".format(ratio))"
   ]
  },
  {
   "cell_type": "code",
   "execution_count": 9,
   "metadata": {},
   "outputs": [
    {
     "data": {
      "image/png": "[encoded data removed]",
      "text/plain": [
       "<Figure size 1000x600 with 1 Axes>"
      ]
     },
     "metadata": {},
     "output_type": "display_data"
    },
    {
     "data": {
      "image/png": "[encoded data removed]",
      "text/plain": [
       "<Figure size 1000x600 with 1 Axes>"
      ]
     },
     "metadata": {},
     "output_type": "display_data"
    },
    {
     "name": "stderr",
     "output_type": "stream",
     "text": [
      "C:\\Users\\Nate\\AppData\\Local\\Temp\\ipykernel_17084\\1991860845.py:35: FutureWarning: The default value of numeric_only in DataFrame.corr is deprecated. In a future version, it will default to False. Select only valid columns or specify the value of numeric_only to silence this warning.\n",
      "  corr_matrix = train_df.corr()\n"
     ]
    },
    {
     "data": {
      "image/png": "[encoded data removed]",
      "text/plain": [
       "<Figure size 1000x600 with 2 Axes>"
      ]
     },
     "metadata": {},
     "output_type": "display_data"
    }
   ],
   "source": [
    "# Create a new column 'sales_category' to stratify the sales into 10 categories\n",
    "eda_df['sales_category'] = pd.cut(eda_df['sales'], bins=[0, 100, 200, 300, 400, 500, 600, 700, 800, 900, 2000, np.inf], labels=[0, 1, 2, 3, 4, 5, 6, 7, 8, 9, 20])\n",
    "\n",
    "eda_df = eda_df.dropna(subset=['sales_category'])\n",
    "eda_df['sales_category'] = eda_df['sales_category'].astype(int)\n",
    "\n",
    "# Plot the stratification of sales to see if there is a significant outliers \n",
    "plt.figure(figsize=(10, 6))\n",
    "ax = sns.countplot(x='sales_category', data=eda_df)\n",
    "plt.title('Stratification of sales')\n",
    "plt.xlabel('Sales Category by Hundreds')\n",
    "plt.ylabel('Count')\n",
    "for p in ax.patches:\n",
    "    ax.annotate(format(p.get_height(), '.0f'), \n",
    "                (p.get_x() + p.get_width() / 2., p.get_height()), \n",
    "                ha = 'center', \n",
    "                va = 'center', \n",
    "                xytext = (0, 10), \n",
    "                textcoords = 'offset points')\n",
    "plt.text(0.5, -0.15, 'Figure 6', transform=plt.gca().transAxes, ha='center', va='center', fontsize=12, style='italic')\n",
    "plt.show()\n",
    "\n",
    "# Plot a histogram, seeing if some stores are more inclined to do promotions\n",
    "promotion_store = train_df[train_df['onpromotion'] != 0].groupby('store_nbr')['onpromotion'].count().reset_index()\n",
    "plt.figure(figsize=(10, 6))\n",
    "ax = sns.barplot(x=\"store_nbr\", y=\"onpromotion\", data=promotion_store)\n",
    "plt.title('Histogram of Onpromotion by Store Number')\n",
    "plt.xlabel('Store Number')\n",
    "plt.ylabel('Count of Promotions')\n",
    "plt.xticks(rotation=90)\n",
    "plt.text(0.5, -0.15, 'Figure 7', transform=plt.gca().transAxes, ha='center', va='center', fontsize=12, style='italic')\n",
    "plt.show()\n",
    "\n",
    "# Plot a correlation matrix with the center as sales\n",
    "corr_matrix = train_df.corr()\n",
    "plt.figure(figsize=(10, 6))\n",
    "sns.heatmap(corr_matrix, annot=True, cmap='Blues')\n",
    "plt.title('Correlation Matrix')\n",
    "plt.text(0.5, -0.15, 'Figure 8', transform=plt.gca().transAxes, ha='center', va='center', fontsize=12, style='italic')\n",
    "plt.show()\n",
    "\n"
   ]
  },
  {
   "cell_type": "code",
   "execution_count": 10,
   "metadata": {},
   "outputs": [
    {
     "data": {
      "text/html": [
       "<div>\n",
       "<style scoped>\n",
       "    .dataframe tbody tr th:only-of-type {\n",
       "        vertical-align: middle;\n",
       "    }\n",
       "\n",
       "    .dataframe tbody tr th {\n",
       "        vertical-align: top;\n",
       "    }\n",
       "\n",
       "    .dataframe thead th {\n",
       "        text-align: right;\n",
       "    }\n",
       "</style>\n",
       "<table border=\"1\" class=\"dataframe\">\n",
       "  <thead>\n",
       "    <tr style=\"text-align: right;\">\n",
       "      <th></th>\n",
       "      <th>id</th>\n",
       "      <th>store_nbr</th>\n",
       "      <th>family</th>\n",
       "      <th>sales</th>\n",
       "      <th>onpromotion</th>\n",
       "      <th>sales_category</th>\n",
       "      <th>day</th>\n",
       "      <th>month</th>\n",
       "      <th>year</th>\n",
       "    </tr>\n",
       "  </thead>\n",
       "  <tbody>\n",
       "    <tr>\n",
       "      <th>2902383</th>\n",
       "      <td>2902383</td>\n",
       "      <td>45</td>\n",
       "      <td>AUTOMOTIVE</td>\n",
       "      <td>13.00</td>\n",
       "      <td>2</td>\n",
       "      <td>0</td>\n",
       "      <td>2017</td>\n",
       "      <td>6</td>\n",
       "      <td>21</td>\n",
       "    </tr>\n",
       "    <tr>\n",
       "      <th>1651514</th>\n",
       "      <td>1651514</td>\n",
       "      <td>47</td>\n",
       "      <td>PREPARED FOODS</td>\n",
       "      <td>325.52</td>\n",
       "      <td>0</td>\n",
       "      <td>3</td>\n",
       "      <td>2015</td>\n",
       "      <td>7</td>\n",
       "      <td>18</td>\n",
       "    </tr>\n",
       "    <tr>\n",
       "      <th>1948349</th>\n",
       "      <td>1948349</td>\n",
       "      <td>26</td>\n",
       "      <td>PREPARED FOODS</td>\n",
       "      <td>4.00</td>\n",
       "      <td>0</td>\n",
       "      <td>0</td>\n",
       "      <td>2016</td>\n",
       "      <td>1</td>\n",
       "      <td>2</td>\n",
       "    </tr>\n",
       "    <tr>\n",
       "      <th>2893871</th>\n",
       "      <td>2893871</td>\n",
       "      <td>7</td>\n",
       "      <td>BEAUTY</td>\n",
       "      <td>5.00</td>\n",
       "      <td>1</td>\n",
       "      <td>0</td>\n",
       "      <td>2017</td>\n",
       "      <td>6</td>\n",
       "      <td>16</td>\n",
       "    </tr>\n",
       "    <tr>\n",
       "      <th>2867501</th>\n",
       "      <td>2867501</td>\n",
       "      <td>16</td>\n",
       "      <td>SEAFOOD</td>\n",
       "      <td>4.00</td>\n",
       "      <td>0</td>\n",
       "      <td>0</td>\n",
       "      <td>2017</td>\n",
       "      <td>6</td>\n",
       "      <td>2</td>\n",
       "    </tr>\n",
       "    <tr>\n",
       "      <th>...</th>\n",
       "      <td>...</td>\n",
       "      <td>...</td>\n",
       "      <td>...</td>\n",
       "      <td>...</td>\n",
       "      <td>...</td>\n",
       "      <td>...</td>\n",
       "      <td>...</td>\n",
       "      <td>...</td>\n",
       "      <td>...</td>\n",
       "    </tr>\n",
       "    <tr>\n",
       "      <th>2003274</th>\n",
       "      <td>2003274</td>\n",
       "      <td>18</td>\n",
       "      <td>DELI</td>\n",
       "      <td>184.07</td>\n",
       "      <td>0</td>\n",
       "      <td>1</td>\n",
       "      <td>2016</td>\n",
       "      <td>2</td>\n",
       "      <td>2</td>\n",
       "    </tr>\n",
       "    <tr>\n",
       "      <th>1692743</th>\n",
       "      <td>1692743</td>\n",
       "      <td>54</td>\n",
       "      <td>DAIRY</td>\n",
       "      <td>181.00</td>\n",
       "      <td>0</td>\n",
       "      <td>1</td>\n",
       "      <td>2015</td>\n",
       "      <td>8</td>\n",
       "      <td>10</td>\n",
       "    </tr>\n",
       "    <tr>\n",
       "      <th>2229084</th>\n",
       "      <td>2229084</td>\n",
       "      <td>53</td>\n",
       "      <td>AUTOMOTIVE</td>\n",
       "      <td>8.00</td>\n",
       "      <td>0</td>\n",
       "      <td>0</td>\n",
       "      <td>2016</td>\n",
       "      <td>6</td>\n",
       "      <td>7</td>\n",
       "    </tr>\n",
       "    <tr>\n",
       "      <th>2768307</th>\n",
       "      <td>2768307</td>\n",
       "      <td>33</td>\n",
       "      <td>BEVERAGES</td>\n",
       "      <td>1594.00</td>\n",
       "      <td>15</td>\n",
       "      <td>9</td>\n",
       "      <td>2017</td>\n",
       "      <td>4</td>\n",
       "      <td>7</td>\n",
       "    </tr>\n",
       "    <tr>\n",
       "      <th>2219110</th>\n",
       "      <td>2219110</td>\n",
       "      <td>23</td>\n",
       "      <td>PERSONAL CARE</td>\n",
       "      <td>123.00</td>\n",
       "      <td>2</td>\n",
       "      <td>1</td>\n",
       "      <td>2016</td>\n",
       "      <td>6</td>\n",
       "      <td>2</td>\n",
       "    </tr>\n",
       "  </tbody>\n",
       "</table>\n",
       "<p>1649450 rows × 9 columns</p>\n",
       "</div>"
      ],
      "text/plain": [
       "              id  store_nbr          family   sales  onpromotion  \\\n",
       "2902383  2902383         45      AUTOMOTIVE   13.00            2   \n",
       "1651514  1651514         47  PREPARED FOODS  325.52            0   \n",
       "1948349  1948349         26  PREPARED FOODS    4.00            0   \n",
       "2893871  2893871          7          BEAUTY    5.00            1   \n",
       "2867501  2867501         16         SEAFOOD    4.00            0   \n",
       "...          ...        ...             ...     ...          ...   \n",
       "2003274  2003274         18            DELI  184.07            0   \n",
       "1692743  1692743         54           DAIRY  181.00            0   \n",
       "2229084  2229084         53      AUTOMOTIVE    8.00            0   \n",
       "2768307  2768307         33       BEVERAGES 1594.00           15   \n",
       "2219110  2219110         23   PERSONAL CARE  123.00            2   \n",
       "\n",
       "         sales_category   day  month  year  \n",
       "2902383               0  2017      6    21  \n",
       "1651514               3  2015      7    18  \n",
       "1948349               0  2016      1     2  \n",
       "2893871               0  2017      6    16  \n",
       "2867501               0  2017      6     2  \n",
       "...                 ...   ...    ...   ...  \n",
       "2003274               1  2016      2     2  \n",
       "1692743               1  2015      8    10  \n",
       "2229084               0  2016      6     7  \n",
       "2768307               9  2017      4     7  \n",
       "2219110               1  2016      6     2  \n",
       "\n",
       "[1649450 rows x 9 columns]"
      ]
     },
     "execution_count": 10,
     "metadata": {},
     "output_type": "execute_result"
    }
   ],
   "source": [
    "# isolate year, month, and day from date\n",
    "eda_df['date'] = pd.to_datetime(eda_df['date'])\n",
    "eda_df['day'] = eda_df['date'].dt.strftime('%Y').astype(int)\n",
    "eda_df['month'] = eda_df['date'].dt.strftime('%m').astype(int)\n",
    "eda_df['year'] = eda_df['date'].dt.strftime('%d').astype(int)\n",
    "eda_df = eda_df.drop(columns=['date'])\n",
    "eda_df"
   ]
  },
  {
   "cell_type": "markdown",
   "metadata": {},
   "source": [
    "- In Figures 1,2, and 3, we are shown that _family_, _date_, and _store_nbr_ are all generally stratified. This is good as it means that we have a good distribution of data for each of these variables.\n",
    "- In Figures 4 and 5 we see that _onpromotion_ and _sales_ are heavily right skewed. We then see that _onpromotion_ variable is not a good candidate for Feature Cutting as there are a significant amount of zero values in the dataset. When putting _sales_ categories into statification for visualization testing in Figure 5, we see that there is a decent amount of data that would be considered outliers (the last bar `20`), so Feature Cutting could be deterimental to _sales_. Also, _onpromotion_ has the highest correlation with another variable (sales) so dropping this variable is not an option. This means that _onpromotion_ and other added numerical features will be minmax scaled, not standard scaled.\n",
    "- Figure 7 shows low indication that there is a correlation between _store_nbr_ and _onpromotion_. That lack of correlation is further shown in Figure 8 where we see less than 0.05 correlation between _store_nbr_ and any other variable. To retain the predition value of the stores, in the next step we will use stores.csv to identifiy store clusterings, state, and city, and use those as features.\n",
    "- Since this is a time-series problem, we will be putting a heavier emphasis on the _date_ variable by separating it into day, month, and year. Above, you can see it performed on the _eda_df_ which has been used for testing data augmentation without impacting the original dataset. Now, these changes can be applied in the feature engineering step.\n"
   ]
  },
  {
   "cell_type": "markdown",
   "metadata": {},
   "source": [
    "<!-- END QUESTION -->\n",
    "\n",
    "<br><br>\n"
   ]
  },
  {
   "cell_type": "markdown",
   "metadata": {},
   "source": [
    "<!-- BEGIN QUESTION -->\n",
    "\n",
    "## 4. Feature engineering <a name=\"4\"></a>\n",
    "\n",
    "<hr>\n",
    "\n",
    "**Your tasks:**\n",
    "\n",
    "1. Carry out feature engineering. In other words, extract new features relevant for the problem and work with your new feature set. You may have to go back and forth between feature engineering and preprocessing. Briefly explain why you come up with these new features.\n"
   ]
  },
  {
   "cell_type": "code",
   "execution_count": 11,
   "metadata": {},
   "outputs": [],
   "source": [
    "# Import useful CSV'set\n",
    "holiday_events_df = pd.read_csv('data/holidays_events.csv')\n",
    "stores_df = pd.read_csv('data/stores.csv')"
   ]
  },
  {
   "cell_type": "code",
   "execution_count": 12,
   "metadata": {},
   "outputs": [
    {
     "data": {
      "text/html": [
       "<div>\n",
       "<style scoped>\n",
       "    .dataframe tbody tr th:only-of-type {\n",
       "        vertical-align: middle;\n",
       "    }\n",
       "\n",
       "    .dataframe tbody tr th {\n",
       "        vertical-align: top;\n",
       "    }\n",
       "\n",
       "    .dataframe thead th {\n",
       "        text-align: right;\n",
       "    }\n",
       "</style>\n",
       "<table border=\"1\" class=\"dataframe\">\n",
       "  <thead>\n",
       "    <tr style=\"text-align: right;\">\n",
       "      <th></th>\n",
       "      <th>date</th>\n",
       "      <th>type</th>\n",
       "      <th>locale</th>\n",
       "      <th>locale_name</th>\n",
       "      <th>description</th>\n",
       "      <th>transferred</th>\n",
       "    </tr>\n",
       "  </thead>\n",
       "  <tbody>\n",
       "    <tr>\n",
       "      <th>0</th>\n",
       "      <td>2012-03-02</td>\n",
       "      <td>Holiday</td>\n",
       "      <td>Local</td>\n",
       "      <td>Manta</td>\n",
       "      <td>Fundacion de Manta</td>\n",
       "      <td>False</td>\n",
       "    </tr>\n",
       "    <tr>\n",
       "      <th>1</th>\n",
       "      <td>2012-04-01</td>\n",
       "      <td>Holiday</td>\n",
       "      <td>Regional</td>\n",
       "      <td>Cotopaxi</td>\n",
       "      <td>Provincializacion de Cotopaxi</td>\n",
       "      <td>False</td>\n",
       "    </tr>\n",
       "    <tr>\n",
       "      <th>2</th>\n",
       "      <td>2012-04-12</td>\n",
       "      <td>Holiday</td>\n",
       "      <td>Local</td>\n",
       "      <td>Cuenca</td>\n",
       "      <td>Fundacion de Cuenca</td>\n",
       "      <td>False</td>\n",
       "    </tr>\n",
       "    <tr>\n",
       "      <th>3</th>\n",
       "      <td>2012-04-14</td>\n",
       "      <td>Holiday</td>\n",
       "      <td>Local</td>\n",
       "      <td>Libertad</td>\n",
       "      <td>Cantonizacion de Libertad</td>\n",
       "      <td>False</td>\n",
       "    </tr>\n",
       "    <tr>\n",
       "      <th>4</th>\n",
       "      <td>2012-04-21</td>\n",
       "      <td>Holiday</td>\n",
       "      <td>Local</td>\n",
       "      <td>Riobamba</td>\n",
       "      <td>Cantonizacion de Riobamba</td>\n",
       "      <td>False</td>\n",
       "    </tr>\n",
       "  </tbody>\n",
       "</table>\n",
       "</div>"
      ],
      "text/plain": [
       "         date     type    locale locale_name                    description  \\\n",
       "0  2012-03-02  Holiday     Local       Manta             Fundacion de Manta   \n",
       "1  2012-04-01  Holiday  Regional    Cotopaxi  Provincializacion de Cotopaxi   \n",
       "2  2012-04-12  Holiday     Local      Cuenca            Fundacion de Cuenca   \n",
       "3  2012-04-14  Holiday     Local    Libertad      Cantonizacion de Libertad   \n",
       "4  2012-04-21  Holiday     Local    Riobamba      Cantonizacion de Riobamba   \n",
       "\n",
       "   transferred  \n",
       "0        False  \n",
       "1        False  \n",
       "2        False  \n",
       "3        False  \n",
       "4        False  "
      ]
     },
     "metadata": {},
     "output_type": "display_data"
    },
    {
     "data": {
      "text/html": [
       "<div>\n",
       "<style scoped>\n",
       "    .dataframe tbody tr th:only-of-type {\n",
       "        vertical-align: middle;\n",
       "    }\n",
       "\n",
       "    .dataframe tbody tr th {\n",
       "        vertical-align: top;\n",
       "    }\n",
       "\n",
       "    .dataframe thead th {\n",
       "        text-align: right;\n",
       "    }\n",
       "</style>\n",
       "<table border=\"1\" class=\"dataframe\">\n",
       "  <thead>\n",
       "    <tr style=\"text-align: right;\">\n",
       "      <th></th>\n",
       "      <th>store_nbr</th>\n",
       "      <th>city</th>\n",
       "      <th>state</th>\n",
       "      <th>type</th>\n",
       "      <th>cluster</th>\n",
       "    </tr>\n",
       "  </thead>\n",
       "  <tbody>\n",
       "    <tr>\n",
       "      <th>0</th>\n",
       "      <td>1</td>\n",
       "      <td>Quito</td>\n",
       "      <td>Pichincha</td>\n",
       "      <td>D</td>\n",
       "      <td>13</td>\n",
       "    </tr>\n",
       "    <tr>\n",
       "      <th>1</th>\n",
       "      <td>2</td>\n",
       "      <td>Quito</td>\n",
       "      <td>Pichincha</td>\n",
       "      <td>D</td>\n",
       "      <td>13</td>\n",
       "    </tr>\n",
       "    <tr>\n",
       "      <th>2</th>\n",
       "      <td>3</td>\n",
       "      <td>Quito</td>\n",
       "      <td>Pichincha</td>\n",
       "      <td>D</td>\n",
       "      <td>8</td>\n",
       "    </tr>\n",
       "    <tr>\n",
       "      <th>3</th>\n",
       "      <td>4</td>\n",
       "      <td>Quito</td>\n",
       "      <td>Pichincha</td>\n",
       "      <td>D</td>\n",
       "      <td>9</td>\n",
       "    </tr>\n",
       "    <tr>\n",
       "      <th>4</th>\n",
       "      <td>5</td>\n",
       "      <td>Santo Domingo</td>\n",
       "      <td>Santo Domingo de los Tsachilas</td>\n",
       "      <td>D</td>\n",
       "      <td>4</td>\n",
       "    </tr>\n",
       "  </tbody>\n",
       "</table>\n",
       "</div>"
      ],
      "text/plain": [
       "   store_nbr           city                           state type  cluster\n",
       "0          1          Quito                       Pichincha    D       13\n",
       "1          2          Quito                       Pichincha    D       13\n",
       "2          3          Quito                       Pichincha    D        8\n",
       "3          4          Quito                       Pichincha    D        9\n",
       "4          5  Santo Domingo  Santo Domingo de los Tsachilas    D        4"
      ]
     },
     "metadata": {},
     "output_type": "display_data"
    }
   ],
   "source": [
    "# Show the imported CVS's head\n",
    "display(holiday_events_df.head())\n",
    "display(stores_df.head())"
   ]
  },
  {
   "cell_type": "code",
   "execution_count": 13,
   "metadata": {},
   "outputs": [],
   "source": [
    "# Separate useful df's into smaller df's\n",
    "national_holiday_df = holiday_events_df[(holiday_events_df['locale'] == 'National') & (holiday_events_df['type'] == 'Holiday')]['date']\n",
    "national_not_holiday_df = holiday_events_df[(holiday_events_df['locale'] == 'National') & (holiday_events_df['type'] != 'Holiday')]['date']\n",
    "\n",
    "local_holiday_df = holiday_events_df[(holiday_events_df['locale'] == 'Local') & (holiday_events_df['type'] == 'Holiday')]['date']\n",
    "local_not_holiday_df = holiday_events_df[(holiday_events_df['locale'] == 'Local') & (holiday_events_df['type'] != 'Holiday')]['date']"
   ]
  },
  {
   "cell_type": "code",
   "execution_count": 14,
   "metadata": {},
   "outputs": [],
   "source": [
    "def holiday_transform(dataframe):\n",
    "    dataframe['national_holiday'] = dataframe['date'].isin(national_holiday_df).astype(int)\n",
    "    dataframe['national_not_holiday'] = dataframe['date'].isin(national_not_holiday_df).astype(int)\n",
    "    dataframe['local_holiday'] = dataframe['date'].isin(local_holiday_df).astype(int)\n",
    "    dataframe['local_not_holiday'] = dataframe['date'].isin(local_not_holiday_df).astype(int)\n",
    "    return dataframe\n",
    "\n",
    "def date_transform(dataframe):\n",
    "    dataframe['date'] = pd.to_datetime(dataframe['date'])\n",
    "    dataframe['day'] = dataframe['date'].dt.strftime('%Y')\n",
    "    dataframe['month'] = dataframe['date'].dt.strftime('%m')\n",
    "    dataframe['year'] = dataframe['date'].dt.strftime('%d')\n",
    "    dataframe = dataframe.drop(columns=['date'])\n",
    "    return dataframe"
   ]
  },
  {
   "cell_type": "code",
   "execution_count": 15,
   "metadata": {},
   "outputs": [
    {
     "data": {
      "text/html": [
       "<div>\n",
       "<style scoped>\n",
       "    .dataframe tbody tr th:only-of-type {\n",
       "        vertical-align: middle;\n",
       "    }\n",
       "\n",
       "    .dataframe tbody tr th {\n",
       "        vertical-align: top;\n",
       "    }\n",
       "\n",
       "    .dataframe thead th {\n",
       "        text-align: right;\n",
       "    }\n",
       "</style>\n",
       "<table border=\"1\" class=\"dataframe\">\n",
       "  <thead>\n",
       "    <tr style=\"text-align: right;\">\n",
       "      <th></th>\n",
       "      <th>id</th>\n",
       "      <th>store_nbr</th>\n",
       "      <th>family</th>\n",
       "      <th>sales</th>\n",
       "      <th>onpromotion</th>\n",
       "      <th>national_holiday</th>\n",
       "      <th>national_not_holiday</th>\n",
       "      <th>local_holiday</th>\n",
       "      <th>local_not_holiday</th>\n",
       "      <th>day</th>\n",
       "      <th>month</th>\n",
       "      <th>year</th>\n",
       "    </tr>\n",
       "  </thead>\n",
       "  <tbody>\n",
       "    <tr>\n",
       "      <th>2902383</th>\n",
       "      <td>2902383</td>\n",
       "      <td>45</td>\n",
       "      <td>AUTOMOTIVE</td>\n",
       "      <td>13.00</td>\n",
       "      <td>2</td>\n",
       "      <td>0</td>\n",
       "      <td>0</td>\n",
       "      <td>0</td>\n",
       "      <td>0</td>\n",
       "      <td>2017</td>\n",
       "      <td>06</td>\n",
       "      <td>21</td>\n",
       "    </tr>\n",
       "    <tr>\n",
       "      <th>1651514</th>\n",
       "      <td>1651514</td>\n",
       "      <td>47</td>\n",
       "      <td>PREPARED FOODS</td>\n",
       "      <td>325.52</td>\n",
       "      <td>0</td>\n",
       "      <td>0</td>\n",
       "      <td>0</td>\n",
       "      <td>0</td>\n",
       "      <td>0</td>\n",
       "      <td>2015</td>\n",
       "      <td>07</td>\n",
       "      <td>18</td>\n",
       "    </tr>\n",
       "    <tr>\n",
       "      <th>1948349</th>\n",
       "      <td>1948349</td>\n",
       "      <td>26</td>\n",
       "      <td>PREPARED FOODS</td>\n",
       "      <td>4.00</td>\n",
       "      <td>0</td>\n",
       "      <td>0</td>\n",
       "      <td>0</td>\n",
       "      <td>0</td>\n",
       "      <td>0</td>\n",
       "      <td>2016</td>\n",
       "      <td>01</td>\n",
       "      <td>02</td>\n",
       "    </tr>\n",
       "    <tr>\n",
       "      <th>2893871</th>\n",
       "      <td>2893871</td>\n",
       "      <td>7</td>\n",
       "      <td>BEAUTY</td>\n",
       "      <td>5.00</td>\n",
       "      <td>1</td>\n",
       "      <td>0</td>\n",
       "      <td>0</td>\n",
       "      <td>0</td>\n",
       "      <td>0</td>\n",
       "      <td>2017</td>\n",
       "      <td>06</td>\n",
       "      <td>16</td>\n",
       "    </tr>\n",
       "    <tr>\n",
       "      <th>2867501</th>\n",
       "      <td>2867501</td>\n",
       "      <td>16</td>\n",
       "      <td>SEAFOOD</td>\n",
       "      <td>4.00</td>\n",
       "      <td>0</td>\n",
       "      <td>0</td>\n",
       "      <td>0</td>\n",
       "      <td>0</td>\n",
       "      <td>0</td>\n",
       "      <td>2017</td>\n",
       "      <td>06</td>\n",
       "      <td>02</td>\n",
       "    </tr>\n",
       "  </tbody>\n",
       "</table>\n",
       "</div>"
      ],
      "text/plain": [
       "              id  store_nbr          family  sales  onpromotion  \\\n",
       "2902383  2902383         45      AUTOMOTIVE  13.00            2   \n",
       "1651514  1651514         47  PREPARED FOODS 325.52            0   \n",
       "1948349  1948349         26  PREPARED FOODS   4.00            0   \n",
       "2893871  2893871          7          BEAUTY   5.00            1   \n",
       "2867501  2867501         16         SEAFOOD   4.00            0   \n",
       "\n",
       "         national_holiday  national_not_holiday  local_holiday  \\\n",
       "2902383                 0                     0              0   \n",
       "1651514                 0                     0              0   \n",
       "1948349                 0                     0              0   \n",
       "2893871                 0                     0              0   \n",
       "2867501                 0                     0              0   \n",
       "\n",
       "         local_not_holiday   day month year  \n",
       "2902383                  0  2017    06   21  \n",
       "1651514                  0  2015    07   18  \n",
       "1948349                  0  2016    01   02  \n",
       "2893871                  0  2017    06   16  \n",
       "2867501                  0  2017    06   02  "
      ]
     },
     "execution_count": 15,
     "metadata": {},
     "output_type": "execute_result"
    }
   ],
   "source": [
    "train_df = date_transform(holiday_transform((train_df)))\n",
    "train_df.head()"
   ]
  },
  {
   "cell_type": "code",
   "execution_count": 16,
   "metadata": {},
   "outputs": [],
   "source": [
    "# transform 'store_nbr' based on what cluster, city, and state it is in\n",
    "def store_transform(dataframe):\n",
    "    dataframe['store_cluster'] = stores_df['cluster'].values[dataframe['store_nbr'].values - 1]\n",
    "    dataframe['city'] = stores_df['city'].values[dataframe['store_nbr'].values - 1]\n",
    "    dataframe['state'] = stores_df['state'].values[dataframe['store_nbr'].values - 1]\n",
    "    dataframe = dataframe.drop(columns=['store_nbr'])\n",
    "    return dataframe\n",
    "\n",
    "train_df = store_transform(train_df)"
   ]
  },
  {
   "cell_type": "code",
   "execution_count": 17,
   "metadata": {},
   "outputs": [
    {
     "data": {
      "text/html": [
       "<div>\n",
       "<style scoped>\n",
       "    .dataframe tbody tr th:only-of-type {\n",
       "        vertical-align: middle;\n",
       "    }\n",
       "\n",
       "    .dataframe tbody tr th {\n",
       "        vertical-align: top;\n",
       "    }\n",
       "\n",
       "    .dataframe thead th {\n",
       "        text-align: right;\n",
       "    }\n",
       "</style>\n",
       "<table border=\"1\" class=\"dataframe\">\n",
       "  <thead>\n",
       "    <tr style=\"text-align: right;\">\n",
       "      <th></th>\n",
       "      <th>id</th>\n",
       "      <th>family</th>\n",
       "      <th>sales</th>\n",
       "      <th>onpromotion</th>\n",
       "      <th>national_holiday</th>\n",
       "      <th>national_not_holiday</th>\n",
       "      <th>local_holiday</th>\n",
       "      <th>local_not_holiday</th>\n",
       "      <th>day</th>\n",
       "      <th>month</th>\n",
       "      <th>year</th>\n",
       "      <th>store_cluster</th>\n",
       "      <th>city</th>\n",
       "      <th>state</th>\n",
       "    </tr>\n",
       "  </thead>\n",
       "  <tbody>\n",
       "    <tr>\n",
       "      <th>2902383</th>\n",
       "      <td>2902383</td>\n",
       "      <td>AUTOMOTIVE</td>\n",
       "      <td>13.00</td>\n",
       "      <td>2</td>\n",
       "      <td>0</td>\n",
       "      <td>0</td>\n",
       "      <td>0</td>\n",
       "      <td>0</td>\n",
       "      <td>2017</td>\n",
       "      <td>06</td>\n",
       "      <td>21</td>\n",
       "      <td>11</td>\n",
       "      <td>Quito</td>\n",
       "      <td>Pichincha</td>\n",
       "    </tr>\n",
       "    <tr>\n",
       "      <th>1651514</th>\n",
       "      <td>1651514</td>\n",
       "      <td>PREPARED FOODS</td>\n",
       "      <td>325.52</td>\n",
       "      <td>0</td>\n",
       "      <td>0</td>\n",
       "      <td>0</td>\n",
       "      <td>0</td>\n",
       "      <td>0</td>\n",
       "      <td>2015</td>\n",
       "      <td>07</td>\n",
       "      <td>18</td>\n",
       "      <td>14</td>\n",
       "      <td>Quito</td>\n",
       "      <td>Pichincha</td>\n",
       "    </tr>\n",
       "    <tr>\n",
       "      <th>1948349</th>\n",
       "      <td>1948349</td>\n",
       "      <td>PREPARED FOODS</td>\n",
       "      <td>4.00</td>\n",
       "      <td>0</td>\n",
       "      <td>0</td>\n",
       "      <td>0</td>\n",
       "      <td>0</td>\n",
       "      <td>0</td>\n",
       "      <td>2016</td>\n",
       "      <td>01</td>\n",
       "      <td>02</td>\n",
       "      <td>10</td>\n",
       "      <td>Guayaquil</td>\n",
       "      <td>Guayas</td>\n",
       "    </tr>\n",
       "    <tr>\n",
       "      <th>2893871</th>\n",
       "      <td>2893871</td>\n",
       "      <td>BEAUTY</td>\n",
       "      <td>5.00</td>\n",
       "      <td>1</td>\n",
       "      <td>0</td>\n",
       "      <td>0</td>\n",
       "      <td>0</td>\n",
       "      <td>0</td>\n",
       "      <td>2017</td>\n",
       "      <td>06</td>\n",
       "      <td>16</td>\n",
       "      <td>8</td>\n",
       "      <td>Quito</td>\n",
       "      <td>Pichincha</td>\n",
       "    </tr>\n",
       "    <tr>\n",
       "      <th>2867501</th>\n",
       "      <td>2867501</td>\n",
       "      <td>SEAFOOD</td>\n",
       "      <td>4.00</td>\n",
       "      <td>0</td>\n",
       "      <td>0</td>\n",
       "      <td>0</td>\n",
       "      <td>0</td>\n",
       "      <td>0</td>\n",
       "      <td>2017</td>\n",
       "      <td>06</td>\n",
       "      <td>02</td>\n",
       "      <td>3</td>\n",
       "      <td>Santo Domingo</td>\n",
       "      <td>Santo Domingo de los Tsachilas</td>\n",
       "    </tr>\n",
       "  </tbody>\n",
       "</table>\n",
       "</div>"
      ],
      "text/plain": [
       "              id          family  sales  onpromotion  national_holiday  \\\n",
       "2902383  2902383      AUTOMOTIVE  13.00            2                 0   \n",
       "1651514  1651514  PREPARED FOODS 325.52            0                 0   \n",
       "1948349  1948349  PREPARED FOODS   4.00            0                 0   \n",
       "2893871  2893871          BEAUTY   5.00            1                 0   \n",
       "2867501  2867501         SEAFOOD   4.00            0                 0   \n",
       "\n",
       "         national_not_holiday  local_holiday  local_not_holiday   day month  \\\n",
       "2902383                     0              0                  0  2017    06   \n",
       "1651514                     0              0                  0  2015    07   \n",
       "1948349                     0              0                  0  2016    01   \n",
       "2893871                     0              0                  0  2017    06   \n",
       "2867501                     0              0                  0  2017    06   \n",
       "\n",
       "        year  store_cluster           city                           state  \n",
       "2902383   21             11          Quito                       Pichincha  \n",
       "1651514   18             14          Quito                       Pichincha  \n",
       "1948349   02             10      Guayaquil                          Guayas  \n",
       "2893871   16              8          Quito                       Pichincha  \n",
       "2867501   02              3  Santo Domingo  Santo Domingo de los Tsachilas  "
      ]
     },
     "execution_count": 17,
     "metadata": {},
     "output_type": "execute_result"
    }
   ],
   "source": [
    "# Display manual transformations so far\n",
    "train_df.head()"
   ]
  },
  {
   "cell_type": "markdown",
   "metadata": {},
   "source": [
    "### Separating Feature Vectors and Targets\n"
   ]
  },
  {
   "cell_type": "code",
   "execution_count": 18,
   "metadata": {},
   "outputs": [],
   "source": [
    "X_train = train_df.drop(columns=['sales'])\n",
    "y_train = train_df['sales']"
   ]
  },
  {
   "cell_type": "markdown",
   "metadata": {},
   "source": [
    "<!-- END QUESTION -->\n",
    "\n",
    "<br><br>\n"
   ]
  },
  {
   "cell_type": "markdown",
   "metadata": {},
   "source": [
    "<!-- BEGIN QUESTION -->\n",
    "\n",
    "## 5. Preprocessing and transformations <a name=\"5\"></a>\n"
   ]
  },
  {
   "cell_type": "markdown",
   "metadata": {},
   "source": [
    "### Identifying different feature types and the transformations to apply on each feature type.\n"
   ]
  },
  {
   "cell_type": "code",
   "execution_count": 19,
   "metadata": {},
   "outputs": [],
   "source": [
    "# Feature List\n",
    "categorical_features = ['family', 'store_cluster', 'city', 'state'] # One Hot Encoded\n",
    "binary_features = ['national_holiday', 'national_not_holiday', 'local_holiday', 'local_not_holiday'] # One Hot Encoded (Binary)\n",
    "scaling_features = ['onpromotion', 'day', 'month', 'year'] # MinMax Scaled\n",
    "drop_features = ['id'] # Drop\n",
    "target = 'sales'"
   ]
  },
  {
   "cell_type": "markdown",
   "metadata": {},
   "source": [
    "### Defining a column transformer and perform preprocessing on the train set\n"
   ]
  },
  {
   "cell_type": "code",
   "execution_count": 20,
   "metadata": {},
   "outputs": [
    {
     "data": {
      "text/html": [
       "<style>#sk-container-id-1 {color: black;background-color: white;}#sk-container-id-1 pre{padding: 0;}#sk-container-id-1 div.sk-toggleable {background-color: white;}#sk-container-id-1 label.sk-toggleable__label {cursor: pointer;display: block;width: 100%;margin-bottom: 0;padding: 0.3em;box-sizing: border-box;text-align: center;}#sk-container-id-1 label.sk-toggleable__label-arrow:before {content: \"▸\";float: left;margin-right: 0.25em;color: #696969;}#sk-container-id-1 label.sk-toggleable__label-arrow:hover:before {color: black;}#sk-container-id-1 div.sk-estimator:hover label.sk-toggleable__label-arrow:before {color: black;}#sk-container-id-1 div.sk-toggleable__content {max-height: 0;max-width: 0;overflow: hidden;text-align: left;background-color: #f0f8ff;}#sk-container-id-1 div.sk-toggleable__content pre {margin: 0.2em;color: black;border-radius: 0.25em;background-color: #f0f8ff;}#sk-container-id-1 input.sk-toggleable__control:checked~div.sk-toggleable__content {max-height: 200px;max-width: 100%;overflow: auto;}#sk-container-id-1 input.sk-toggleable__control:checked~label.sk-toggleable__label-arrow:before {content: \"▾\";}#sk-container-id-1 div.sk-estimator input.sk-toggleable__control:checked~label.sk-toggleable__label {background-color: #d4ebff;}#sk-container-id-1 div.sk-label input.sk-toggleable__control:checked~label.sk-toggleable__label {background-color: #d4ebff;}#sk-container-id-1 input.sk-hidden--visually {border: 0;clip: rect(1px 1px 1px 1px);clip: rect(1px, 1px, 1px, 1px);height: 1px;margin: -1px;overflow: hidden;padding: 0;position: absolute;width: 1px;}#sk-container-id-1 div.sk-estimator {font-family: monospace;background-color: #f0f8ff;border: 1px dotted black;border-radius: 0.25em;box-sizing: border-box;margin-bottom: 0.5em;}#sk-container-id-1 div.sk-estimator:hover {background-color: #d4ebff;}#sk-container-id-1 div.sk-parallel-item::after {content: \"\";width: 100%;border-bottom: 1px solid gray;flex-grow: 1;}#sk-container-id-1 div.sk-label:hover label.sk-toggleable__label {background-color: #d4ebff;}#sk-container-id-1 div.sk-serial::before {content: \"\";position: absolute;border-left: 1px solid gray;box-sizing: border-box;top: 0;bottom: 0;left: 50%;z-index: 0;}#sk-container-id-1 div.sk-serial {display: flex;flex-direction: column;align-items: center;background-color: white;padding-right: 0.2em;padding-left: 0.2em;position: relative;}#sk-container-id-1 div.sk-item {position: relative;z-index: 1;}#sk-container-id-1 div.sk-parallel {display: flex;align-items: stretch;justify-content: center;background-color: white;position: relative;}#sk-container-id-1 div.sk-item::before, #sk-container-id-1 div.sk-parallel-item::before {content: \"\";position: absolute;border-left: 1px solid gray;box-sizing: border-box;top: 0;bottom: 0;left: 50%;z-index: -1;}#sk-container-id-1 div.sk-parallel-item {display: flex;flex-direction: column;z-index: 1;position: relative;background-color: white;}#sk-container-id-1 div.sk-parallel-item:first-child::after {align-self: flex-end;width: 50%;}#sk-container-id-1 div.sk-parallel-item:last-child::after {align-self: flex-start;width: 50%;}#sk-container-id-1 div.sk-parallel-item:only-child::after {width: 0;}#sk-container-id-1 div.sk-dashed-wrapped {border: 1px dashed gray;margin: 0 0.4em 0.5em 0.4em;box-sizing: border-box;padding-bottom: 0.4em;background-color: white;}#sk-container-id-1 div.sk-label label {font-family: monospace;font-weight: bold;display: inline-block;line-height: 1.2em;}#sk-container-id-1 div.sk-label-container {text-align: center;}#sk-container-id-1 div.sk-container {/* jupyter's `normalize.less` sets `[hidden] { display: none; }` but bootstrap.min.css set `[hidden] { display: none !important; }` so we also need the `!important` here to be able to override the default hidden behavior on the sphinx rendered scikit-learn.org. See: https://github.com/scikit-learn/scikit-learn/issues/21755 */display: inline-block !important;position: relative;}#sk-container-id-1 div.sk-text-repr-fallback {display: none;}</style><div id=\"sk-container-id-1\" class=\"sk-top-container\"><div class=\"sk-text-repr-fallback\"><pre>ColumnTransformer(remainder=&#x27;passthrough&#x27;,\n",
       "                  transformers=[(&#x27;onehotencoder-1&#x27;,\n",
       "                                 OneHotEncoder(handle_unknown=&#x27;ignore&#x27;,\n",
       "                                               sparse_output=False),\n",
       "                                 [&#x27;family&#x27;, &#x27;store_cluster&#x27;, &#x27;city&#x27;, &#x27;state&#x27;]),\n",
       "                                (&#x27;onehotencoder-2&#x27;,\n",
       "                                 OneHotEncoder(drop=&#x27;if_binary&#x27;,\n",
       "                                               dtype=&lt;class &#x27;int&#x27;&gt;),\n",
       "                                 [&#x27;national_holiday&#x27;, &#x27;national_not_holiday&#x27;,\n",
       "                                  &#x27;local_holiday&#x27;, &#x27;local_not_holiday&#x27;]),\n",
       "                                (&#x27;standardscaler&#x27;, StandardScaler(),\n",
       "                                 [&#x27;onpromotion&#x27;, &#x27;day&#x27;, &#x27;month&#x27;, &#x27;year&#x27;]),\n",
       "                                (&#x27;drop&#x27;, &#x27;drop&#x27;, [&#x27;id&#x27;])])</pre><b>In a Jupyter environment, please rerun this cell to show the HTML representation or trust the notebook. <br />On GitHub, the HTML representation is unable to render, please try loading this page with nbviewer.org.</b></div><div class=\"sk-container\" hidden><div class=\"sk-item sk-dashed-wrapped\"><div class=\"sk-label-container\"><div class=\"sk-label sk-toggleable\"><input class=\"sk-toggleable__control sk-hidden--visually\" id=\"sk-estimator-id-1\" type=\"checkbox\" ><label for=\"sk-estimator-id-1\" class=\"sk-toggleable__label sk-toggleable__label-arrow\">ColumnTransformer</label><div class=\"sk-toggleable__content\"><pre>ColumnTransformer(remainder=&#x27;passthrough&#x27;,\n",
       "                  transformers=[(&#x27;onehotencoder-1&#x27;,\n",
       "                                 OneHotEncoder(handle_unknown=&#x27;ignore&#x27;,\n",
       "                                               sparse_output=False),\n",
       "                                 [&#x27;family&#x27;, &#x27;store_cluster&#x27;, &#x27;city&#x27;, &#x27;state&#x27;]),\n",
       "                                (&#x27;onehotencoder-2&#x27;,\n",
       "                                 OneHotEncoder(drop=&#x27;if_binary&#x27;,\n",
       "                                               dtype=&lt;class &#x27;int&#x27;&gt;),\n",
       "                                 [&#x27;national_holiday&#x27;, &#x27;national_not_holiday&#x27;,\n",
       "                                  &#x27;local_holiday&#x27;, &#x27;local_not_holiday&#x27;]),\n",
       "                                (&#x27;standardscaler&#x27;, StandardScaler(),\n",
       "                                 [&#x27;onpromotion&#x27;, &#x27;day&#x27;, &#x27;month&#x27;, &#x27;year&#x27;]),\n",
       "                                (&#x27;drop&#x27;, &#x27;drop&#x27;, [&#x27;id&#x27;])])</pre></div></div></div><div class=\"sk-parallel\"><div class=\"sk-parallel-item\"><div class=\"sk-item\"><div class=\"sk-label-container\"><div class=\"sk-label sk-toggleable\"><input class=\"sk-toggleable__control sk-hidden--visually\" id=\"sk-estimator-id-2\" type=\"checkbox\" ><label for=\"sk-estimator-id-2\" class=\"sk-toggleable__label sk-toggleable__label-arrow\">onehotencoder-1</label><div class=\"sk-toggleable__content\"><pre>[&#x27;family&#x27;, &#x27;store_cluster&#x27;, &#x27;city&#x27;, &#x27;state&#x27;]</pre></div></div></div><div class=\"sk-serial\"><div class=\"sk-item\"><div class=\"sk-estimator sk-toggleable\"><input class=\"sk-toggleable__control sk-hidden--visually\" id=\"sk-estimator-id-3\" type=\"checkbox\" ><label for=\"sk-estimator-id-3\" class=\"sk-toggleable__label sk-toggleable__label-arrow\">OneHotEncoder</label><div class=\"sk-toggleable__content\"><pre>OneHotEncoder(handle_unknown=&#x27;ignore&#x27;, sparse_output=False)</pre></div></div></div></div></div></div><div class=\"sk-parallel-item\"><div class=\"sk-item\"><div class=\"sk-label-container\"><div class=\"sk-label sk-toggleable\"><input class=\"sk-toggleable__control sk-hidden--visually\" id=\"sk-estimator-id-4\" type=\"checkbox\" ><label for=\"sk-estimator-id-4\" class=\"sk-toggleable__label sk-toggleable__label-arrow\">onehotencoder-2</label><div class=\"sk-toggleable__content\"><pre>[&#x27;national_holiday&#x27;, &#x27;national_not_holiday&#x27;, &#x27;local_holiday&#x27;, &#x27;local_not_holiday&#x27;]</pre></div></div></div><div class=\"sk-serial\"><div class=\"sk-item\"><div class=\"sk-estimator sk-toggleable\"><input class=\"sk-toggleable__control sk-hidden--visually\" id=\"sk-estimator-id-5\" type=\"checkbox\" ><label for=\"sk-estimator-id-5\" class=\"sk-toggleable__label sk-toggleable__label-arrow\">OneHotEncoder</label><div class=\"sk-toggleable__content\"><pre>OneHotEncoder(drop=&#x27;if_binary&#x27;, dtype=&lt;class &#x27;int&#x27;&gt;)</pre></div></div></div></div></div></div><div class=\"sk-parallel-item\"><div class=\"sk-item\"><div class=\"sk-label-container\"><div class=\"sk-label sk-toggleable\"><input class=\"sk-toggleable__control sk-hidden--visually\" id=\"sk-estimator-id-6\" type=\"checkbox\" ><label for=\"sk-estimator-id-6\" class=\"sk-toggleable__label sk-toggleable__label-arrow\">standardscaler</label><div class=\"sk-toggleable__content\"><pre>[&#x27;onpromotion&#x27;, &#x27;day&#x27;, &#x27;month&#x27;, &#x27;year&#x27;]</pre></div></div></div><div class=\"sk-serial\"><div class=\"sk-item\"><div class=\"sk-estimator sk-toggleable\"><input class=\"sk-toggleable__control sk-hidden--visually\" id=\"sk-estimator-id-7\" type=\"checkbox\" ><label for=\"sk-estimator-id-7\" class=\"sk-toggleable__label sk-toggleable__label-arrow\">StandardScaler</label><div class=\"sk-toggleable__content\"><pre>StandardScaler()</pre></div></div></div></div></div></div><div class=\"sk-parallel-item\"><div class=\"sk-item\"><div class=\"sk-label-container\"><div class=\"sk-label sk-toggleable\"><input class=\"sk-toggleable__control sk-hidden--visually\" id=\"sk-estimator-id-8\" type=\"checkbox\" ><label for=\"sk-estimator-id-8\" class=\"sk-toggleable__label sk-toggleable__label-arrow\">drop</label><div class=\"sk-toggleable__content\"><pre>[&#x27;id&#x27;]</pre></div></div></div><div class=\"sk-serial\"><div class=\"sk-item\"><div class=\"sk-estimator sk-toggleable\"><input class=\"sk-toggleable__control sk-hidden--visually\" id=\"sk-estimator-id-9\" type=\"checkbox\" ><label for=\"sk-estimator-id-9\" class=\"sk-toggleable__label sk-toggleable__label-arrow\">drop</label><div class=\"sk-toggleable__content\"><pre>drop</pre></div></div></div></div></div></div><div class=\"sk-parallel-item\"><div class=\"sk-item\"><div class=\"sk-label-container\"><div class=\"sk-label sk-toggleable\"><input class=\"sk-toggleable__control sk-hidden--visually\" id=\"sk-estimator-id-10\" type=\"checkbox\" ><label for=\"sk-estimator-id-10\" class=\"sk-toggleable__label sk-toggleable__label-arrow\">remainder</label><div class=\"sk-toggleable__content\"><pre></pre></div></div></div><div class=\"sk-serial\"><div class=\"sk-item\"><div class=\"sk-estimator sk-toggleable\"><input class=\"sk-toggleable__control sk-hidden--visually\" id=\"sk-estimator-id-11\" type=\"checkbox\" ><label for=\"sk-estimator-id-11\" class=\"sk-toggleable__label sk-toggleable__label-arrow\">passthrough</label><div class=\"sk-toggleable__content\"><pre>passthrough</pre></div></div></div></div></div></div></div></div></div></div>"
      ],
      "text/plain": [
       "ColumnTransformer(remainder='passthrough',\n",
       "                  transformers=[('onehotencoder-1',\n",
       "                                 OneHotEncoder(handle_unknown='ignore',\n",
       "                                               sparse_output=False),\n",
       "                                 ['family', 'store_cluster', 'city', 'state']),\n",
       "                                ('onehotencoder-2',\n",
       "                                 OneHotEncoder(drop='if_binary',\n",
       "                                               dtype=<class 'int'>),\n",
       "                                 ['national_holiday', 'national_not_holiday',\n",
       "                                  'local_holiday', 'local_not_holiday']),\n",
       "                                ('standardscaler', StandardScaler(),\n",
       "                                 ['onpromotion', 'day', 'month', 'year']),\n",
       "                                ('drop', 'drop', ['id'])])"
      ]
     },
     "execution_count": 20,
     "metadata": {},
     "output_type": "execute_result"
    }
   ],
   "source": [
    "categorical_transformer = OneHotEncoder(handle_unknown=\"ignore\", sparse_output=False)\n",
    "binary_transformer = OneHotEncoder(drop=\"if_binary\", dtype=int)\n",
    "scaling_transformer = StandardScaler()\n",
    "\n",
    "preprocessor = make_column_transformer(\n",
    "    (categorical_transformer, categorical_features),\n",
    "    (binary_transformer, binary_features),\n",
    "    (scaling_transformer, scaling_features),\n",
    "    ('drop', drop_features),\n",
    "    remainder='passthrough'\n",
    ")\n",
    "\n",
    "preprocessor"
   ]
  },
  {
   "cell_type": "code",
   "execution_count": 21,
   "metadata": {},
   "outputs": [
    {
     "data": {
      "text/plain": [
       "array([[ 1.        ,  0.        ,  0.        , ...,  1.6073284 ,\n",
       "        -0.06134829,  0.61091494],\n",
       "       [ 0.        ,  0.        ,  0.        , ...,  0.12064319,\n",
       "         0.23400097,  0.26975882],\n",
       "       [ 0.        ,  0.        ,  0.        , ...,  0.8639858 ,\n",
       "        -1.53809456, -1.54974051],\n",
       "       ...,\n",
       "       [ 1.        ,  0.        ,  0.        , ...,  0.8639858 ,\n",
       "        -0.06134829, -0.98114697],\n",
       "       [ 0.        ,  0.        ,  0.        , ...,  1.6073284 ,\n",
       "        -0.6520468 , -0.98114697],\n",
       "       [ 0.        ,  0.        ,  0.        , ...,  0.8639858 ,\n",
       "        -0.06134829, -1.54974051]])"
      ]
     },
     "execution_count": 21,
     "metadata": {},
     "output_type": "execute_result"
    }
   ],
   "source": [
    "X_train_prepared = preprocessor.fit_transform(X_train)\n",
    "X_train_prepared"
   ]
  },
  {
   "cell_type": "code",
   "execution_count": 22,
   "metadata": {},
   "outputs": [
    {
     "data": {
      "text/plain": [
       "['family_AUTOMOTIVE',\n",
       " 'family_BABY CARE',\n",
       " 'family_BEAUTY',\n",
       " 'family_BEVERAGES',\n",
       " 'family_BOOKS',\n",
       " 'family_BREAD/BAKERY',\n",
       " 'family_CELEBRATION',\n",
       " 'family_CLEANING',\n",
       " 'family_DAIRY',\n",
       " 'family_DELI',\n",
       " 'family_EGGS',\n",
       " 'family_FROZEN FOODS',\n",
       " 'family_GROCERY I',\n",
       " 'family_GROCERY II',\n",
       " 'family_HARDWARE',\n",
       " 'family_HOME AND KITCHEN I',\n",
       " 'family_HOME AND KITCHEN II',\n",
       " 'family_HOME APPLIANCES',\n",
       " 'family_HOME CARE',\n",
       " 'family_LADIESWEAR',\n",
       " 'family_LAWN AND GARDEN',\n",
       " 'family_LINGERIE',\n",
       " 'family_LIQUOR,WINE,BEER',\n",
       " 'family_MAGAZINES',\n",
       " 'family_MEATS',\n",
       " 'family_PERSONAL CARE',\n",
       " 'family_PET SUPPLIES',\n",
       " 'family_PLAYERS AND ELECTRONICS',\n",
       " 'family_POULTRY',\n",
       " 'family_PREPARED FOODS',\n",
       " 'family_PRODUCE',\n",
       " 'family_SCHOOL AND OFFICE SUPPLIES',\n",
       " 'family_SEAFOOD',\n",
       " 'store_cluster_1',\n",
       " 'store_cluster_2',\n",
       " 'store_cluster_3',\n",
       " 'store_cluster_4',\n",
       " 'store_cluster_5',\n",
       " 'store_cluster_6',\n",
       " 'store_cluster_7',\n",
       " 'store_cluster_8',\n",
       " 'store_cluster_9',\n",
       " 'store_cluster_10',\n",
       " 'store_cluster_11',\n",
       " 'store_cluster_12',\n",
       " 'store_cluster_13',\n",
       " 'store_cluster_14',\n",
       " 'store_cluster_15',\n",
       " 'store_cluster_16',\n",
       " 'store_cluster_17',\n",
       " 'city_Ambato',\n",
       " 'city_Babahoyo',\n",
       " 'city_Cayambe',\n",
       " 'city_Cuenca',\n",
       " 'city_Daule',\n",
       " 'city_El Carmen',\n",
       " 'city_Esmeraldas',\n",
       " 'city_Guaranda',\n",
       " 'city_Guayaquil',\n",
       " 'city_Ibarra',\n",
       " 'city_Latacunga',\n",
       " 'city_Libertad',\n",
       " 'city_Loja',\n",
       " 'city_Machala',\n",
       " 'city_Manta',\n",
       " 'city_Playas',\n",
       " 'city_Puyo',\n",
       " 'city_Quevedo',\n",
       " 'city_Quito',\n",
       " 'city_Riobamba',\n",
       " 'city_Salinas',\n",
       " 'city_Santo Domingo',\n",
       " 'state_Azuay',\n",
       " 'state_Bolivar',\n",
       " 'state_Chimborazo',\n",
       " 'state_Cotopaxi',\n",
       " 'state_El Oro',\n",
       " 'state_Esmeraldas',\n",
       " 'state_Guayas',\n",
       " 'state_Imbabura',\n",
       " 'state_Loja',\n",
       " 'state_Los Rios',\n",
       " 'state_Manabi',\n",
       " 'state_Pastaza',\n",
       " 'state_Pichincha',\n",
       " 'state_Santa Elena',\n",
       " 'state_Santo Domingo de los Tsachilas',\n",
       " 'state_Tungurahua',\n",
       " 'national_holiday_1',\n",
       " 'national_not_holiday_1',\n",
       " 'local_holiday_1',\n",
       " 'local_not_holiday_1',\n",
       " 'onpromotion',\n",
       " 'day',\n",
       " 'month',\n",
       " 'year']"
      ]
     },
     "execution_count": 22,
     "metadata": {},
     "output_type": "execute_result"
    }
   ],
   "source": [
    "column_names = list(\n",
    "    preprocessor.named_transformers_[\"onehotencoder-1\"].get_feature_names_out(categorical_features)) + list(\n",
    "    preprocessor.named_transformers_[\"onehotencoder-2\"].get_feature_names_out(binary_features)) + scaling_features\n",
    "\n",
    "column_names"
   ]
  },
  {
   "cell_type": "code",
   "execution_count": 23,
   "metadata": {},
   "outputs": [
    {
     "data": {
      "text/html": [
       "<div>\n",
       "<style scoped>\n",
       "    .dataframe tbody tr th:only-of-type {\n",
       "        vertical-align: middle;\n",
       "    }\n",
       "\n",
       "    .dataframe tbody tr th {\n",
       "        vertical-align: top;\n",
       "    }\n",
       "\n",
       "    .dataframe thead th {\n",
       "        text-align: right;\n",
       "    }\n",
       "</style>\n",
       "<table border=\"1\" class=\"dataframe\">\n",
       "  <thead>\n",
       "    <tr style=\"text-align: right;\">\n",
       "      <th></th>\n",
       "      <th>family_AUTOMOTIVE</th>\n",
       "      <th>family_BABY CARE</th>\n",
       "      <th>family_BEAUTY</th>\n",
       "      <th>family_BEVERAGES</th>\n",
       "      <th>family_BOOKS</th>\n",
       "      <th>family_BREAD/BAKERY</th>\n",
       "      <th>family_CELEBRATION</th>\n",
       "      <th>family_CLEANING</th>\n",
       "      <th>family_DAIRY</th>\n",
       "      <th>family_DELI</th>\n",
       "      <th>...</th>\n",
       "      <th>state_Santo Domingo de los Tsachilas</th>\n",
       "      <th>state_Tungurahua</th>\n",
       "      <th>national_holiday_1</th>\n",
       "      <th>national_not_holiday_1</th>\n",
       "      <th>local_holiday_1</th>\n",
       "      <th>local_not_holiday_1</th>\n",
       "      <th>onpromotion</th>\n",
       "      <th>day</th>\n",
       "      <th>month</th>\n",
       "      <th>year</th>\n",
       "    </tr>\n",
       "  </thead>\n",
       "  <tbody>\n",
       "    <tr>\n",
       "      <th>0</th>\n",
       "      <td>1.00</td>\n",
       "      <td>0.00</td>\n",
       "      <td>0.00</td>\n",
       "      <td>0.00</td>\n",
       "      <td>0.00</td>\n",
       "      <td>0.00</td>\n",
       "      <td>0.00</td>\n",
       "      <td>0.00</td>\n",
       "      <td>0.00</td>\n",
       "      <td>0.00</td>\n",
       "      <td>...</td>\n",
       "      <td>0.00</td>\n",
       "      <td>0.00</td>\n",
       "      <td>0.00</td>\n",
       "      <td>0.00</td>\n",
       "      <td>0.00</td>\n",
       "      <td>0.00</td>\n",
       "      <td>-0.05</td>\n",
       "      <td>1.61</td>\n",
       "      <td>-0.06</td>\n",
       "      <td>0.61</td>\n",
       "    </tr>\n",
       "    <tr>\n",
       "      <th>1</th>\n",
       "      <td>0.00</td>\n",
       "      <td>0.00</td>\n",
       "      <td>0.00</td>\n",
       "      <td>0.00</td>\n",
       "      <td>0.00</td>\n",
       "      <td>0.00</td>\n",
       "      <td>0.00</td>\n",
       "      <td>0.00</td>\n",
       "      <td>0.00</td>\n",
       "      <td>0.00</td>\n",
       "      <td>...</td>\n",
       "      <td>0.00</td>\n",
       "      <td>0.00</td>\n",
       "      <td>0.00</td>\n",
       "      <td>0.00</td>\n",
       "      <td>0.00</td>\n",
       "      <td>0.00</td>\n",
       "      <td>-0.21</td>\n",
       "      <td>0.12</td>\n",
       "      <td>0.23</td>\n",
       "      <td>0.27</td>\n",
       "    </tr>\n",
       "    <tr>\n",
       "      <th>2</th>\n",
       "      <td>0.00</td>\n",
       "      <td>0.00</td>\n",
       "      <td>0.00</td>\n",
       "      <td>0.00</td>\n",
       "      <td>0.00</td>\n",
       "      <td>0.00</td>\n",
       "      <td>0.00</td>\n",
       "      <td>0.00</td>\n",
       "      <td>0.00</td>\n",
       "      <td>0.00</td>\n",
       "      <td>...</td>\n",
       "      <td>0.00</td>\n",
       "      <td>0.00</td>\n",
       "      <td>0.00</td>\n",
       "      <td>0.00</td>\n",
       "      <td>0.00</td>\n",
       "      <td>0.00</td>\n",
       "      <td>-0.21</td>\n",
       "      <td>0.86</td>\n",
       "      <td>-1.54</td>\n",
       "      <td>-1.55</td>\n",
       "    </tr>\n",
       "    <tr>\n",
       "      <th>3</th>\n",
       "      <td>0.00</td>\n",
       "      <td>0.00</td>\n",
       "      <td>1.00</td>\n",
       "      <td>0.00</td>\n",
       "      <td>0.00</td>\n",
       "      <td>0.00</td>\n",
       "      <td>0.00</td>\n",
       "      <td>0.00</td>\n",
       "      <td>0.00</td>\n",
       "      <td>0.00</td>\n",
       "      <td>...</td>\n",
       "      <td>0.00</td>\n",
       "      <td>0.00</td>\n",
       "      <td>0.00</td>\n",
       "      <td>0.00</td>\n",
       "      <td>0.00</td>\n",
       "      <td>0.00</td>\n",
       "      <td>-0.13</td>\n",
       "      <td>1.61</td>\n",
       "      <td>-0.06</td>\n",
       "      <td>0.04</td>\n",
       "    </tr>\n",
       "    <tr>\n",
       "      <th>4</th>\n",
       "      <td>0.00</td>\n",
       "      <td>0.00</td>\n",
       "      <td>0.00</td>\n",
       "      <td>0.00</td>\n",
       "      <td>0.00</td>\n",
       "      <td>0.00</td>\n",
       "      <td>0.00</td>\n",
       "      <td>0.00</td>\n",
       "      <td>0.00</td>\n",
       "      <td>0.00</td>\n",
       "      <td>...</td>\n",
       "      <td>1.00</td>\n",
       "      <td>0.00</td>\n",
       "      <td>0.00</td>\n",
       "      <td>0.00</td>\n",
       "      <td>0.00</td>\n",
       "      <td>0.00</td>\n",
       "      <td>-0.21</td>\n",
       "      <td>1.61</td>\n",
       "      <td>-0.06</td>\n",
       "      <td>-1.55</td>\n",
       "    </tr>\n",
       "    <tr>\n",
       "      <th>...</th>\n",
       "      <td>...</td>\n",
       "      <td>...</td>\n",
       "      <td>...</td>\n",
       "      <td>...</td>\n",
       "      <td>...</td>\n",
       "      <td>...</td>\n",
       "      <td>...</td>\n",
       "      <td>...</td>\n",
       "      <td>...</td>\n",
       "      <td>...</td>\n",
       "      <td>...</td>\n",
       "      <td>...</td>\n",
       "      <td>...</td>\n",
       "      <td>...</td>\n",
       "      <td>...</td>\n",
       "      <td>...</td>\n",
       "      <td>...</td>\n",
       "      <td>...</td>\n",
       "      <td>...</td>\n",
       "      <td>...</td>\n",
       "      <td>...</td>\n",
       "    </tr>\n",
       "    <tr>\n",
       "      <th>2400705</th>\n",
       "      <td>0.00</td>\n",
       "      <td>0.00</td>\n",
       "      <td>0.00</td>\n",
       "      <td>0.00</td>\n",
       "      <td>0.00</td>\n",
       "      <td>0.00</td>\n",
       "      <td>0.00</td>\n",
       "      <td>0.00</td>\n",
       "      <td>1.00</td>\n",
       "      <td>0.00</td>\n",
       "      <td>...</td>\n",
       "      <td>0.00</td>\n",
       "      <td>0.00</td>\n",
       "      <td>1.00</td>\n",
       "      <td>0.00</td>\n",
       "      <td>0.00</td>\n",
       "      <td>0.00</td>\n",
       "      <td>-0.21</td>\n",
       "      <td>0.12</td>\n",
       "      <td>0.53</td>\n",
       "      <td>-0.64</td>\n",
       "    </tr>\n",
       "    <tr>\n",
       "      <th>2400706</th>\n",
       "      <td>0.00</td>\n",
       "      <td>0.00</td>\n",
       "      <td>0.00</td>\n",
       "      <td>0.00</td>\n",
       "      <td>0.00</td>\n",
       "      <td>0.00</td>\n",
       "      <td>0.00</td>\n",
       "      <td>0.00</td>\n",
       "      <td>0.00</td>\n",
       "      <td>0.00</td>\n",
       "      <td>...</td>\n",
       "      <td>0.00</td>\n",
       "      <td>1.00</td>\n",
       "      <td>0.00</td>\n",
       "      <td>0.00</td>\n",
       "      <td>0.00</td>\n",
       "      <td>0.00</td>\n",
       "      <td>-0.21</td>\n",
       "      <td>0.86</td>\n",
       "      <td>0.53</td>\n",
       "      <td>0.27</td>\n",
       "    </tr>\n",
       "    <tr>\n",
       "      <th>2400707</th>\n",
       "      <td>1.00</td>\n",
       "      <td>0.00</td>\n",
       "      <td>0.00</td>\n",
       "      <td>0.00</td>\n",
       "      <td>0.00</td>\n",
       "      <td>0.00</td>\n",
       "      <td>0.00</td>\n",
       "      <td>0.00</td>\n",
       "      <td>0.00</td>\n",
       "      <td>0.00</td>\n",
       "      <td>...</td>\n",
       "      <td>0.00</td>\n",
       "      <td>0.00</td>\n",
       "      <td>0.00</td>\n",
       "      <td>0.00</td>\n",
       "      <td>0.00</td>\n",
       "      <td>0.00</td>\n",
       "      <td>-0.21</td>\n",
       "      <td>0.86</td>\n",
       "      <td>-0.06</td>\n",
       "      <td>-0.98</td>\n",
       "    </tr>\n",
       "    <tr>\n",
       "      <th>2400708</th>\n",
       "      <td>0.00</td>\n",
       "      <td>0.00</td>\n",
       "      <td>0.00</td>\n",
       "      <td>1.00</td>\n",
       "      <td>0.00</td>\n",
       "      <td>0.00</td>\n",
       "      <td>0.00</td>\n",
       "      <td>0.00</td>\n",
       "      <td>0.00</td>\n",
       "      <td>0.00</td>\n",
       "      <td>...</td>\n",
       "      <td>0.00</td>\n",
       "      <td>0.00</td>\n",
       "      <td>0.00</td>\n",
       "      <td>0.00</td>\n",
       "      <td>0.00</td>\n",
       "      <td>0.00</td>\n",
       "      <td>1.01</td>\n",
       "      <td>1.61</td>\n",
       "      <td>-0.65</td>\n",
       "      <td>-0.98</td>\n",
       "    </tr>\n",
       "    <tr>\n",
       "      <th>2400709</th>\n",
       "      <td>0.00</td>\n",
       "      <td>0.00</td>\n",
       "      <td>0.00</td>\n",
       "      <td>0.00</td>\n",
       "      <td>0.00</td>\n",
       "      <td>0.00</td>\n",
       "      <td>0.00</td>\n",
       "      <td>0.00</td>\n",
       "      <td>0.00</td>\n",
       "      <td>0.00</td>\n",
       "      <td>...</td>\n",
       "      <td>0.00</td>\n",
       "      <td>1.00</td>\n",
       "      <td>0.00</td>\n",
       "      <td>0.00</td>\n",
       "      <td>0.00</td>\n",
       "      <td>0.00</td>\n",
       "      <td>-0.05</td>\n",
       "      <td>0.86</td>\n",
       "      <td>-0.06</td>\n",
       "      <td>-1.55</td>\n",
       "    </tr>\n",
       "  </tbody>\n",
       "</table>\n",
       "<p>2400710 rows × 96 columns</p>\n",
       "</div>"
      ],
      "text/plain": [
       "         family_AUTOMOTIVE  family_BABY CARE  family_BEAUTY  family_BEVERAGES  \\\n",
       "0                     1.00              0.00           0.00              0.00   \n",
       "1                     0.00              0.00           0.00              0.00   \n",
       "2                     0.00              0.00           0.00              0.00   \n",
       "3                     0.00              0.00           1.00              0.00   \n",
       "4                     0.00              0.00           0.00              0.00   \n",
       "...                    ...               ...            ...               ...   \n",
       "2400705               0.00              0.00           0.00              0.00   \n",
       "2400706               0.00              0.00           0.00              0.00   \n",
       "2400707               1.00              0.00           0.00              0.00   \n",
       "2400708               0.00              0.00           0.00              1.00   \n",
       "2400709               0.00              0.00           0.00              0.00   \n",
       "\n",
       "         family_BOOKS  family_BREAD/BAKERY  family_CELEBRATION  \\\n",
       "0                0.00                 0.00                0.00   \n",
       "1                0.00                 0.00                0.00   \n",
       "2                0.00                 0.00                0.00   \n",
       "3                0.00                 0.00                0.00   \n",
       "4                0.00                 0.00                0.00   \n",
       "...               ...                  ...                 ...   \n",
       "2400705          0.00                 0.00                0.00   \n",
       "2400706          0.00                 0.00                0.00   \n",
       "2400707          0.00                 0.00                0.00   \n",
       "2400708          0.00                 0.00                0.00   \n",
       "2400709          0.00                 0.00                0.00   \n",
       "\n",
       "         family_CLEANING  family_DAIRY  family_DELI  ...  \\\n",
       "0                   0.00          0.00         0.00  ...   \n",
       "1                   0.00          0.00         0.00  ...   \n",
       "2                   0.00          0.00         0.00  ...   \n",
       "3                   0.00          0.00         0.00  ...   \n",
       "4                   0.00          0.00         0.00  ...   \n",
       "...                  ...           ...          ...  ...   \n",
       "2400705             0.00          1.00         0.00  ...   \n",
       "2400706             0.00          0.00         0.00  ...   \n",
       "2400707             0.00          0.00         0.00  ...   \n",
       "2400708             0.00          0.00         0.00  ...   \n",
       "2400709             0.00          0.00         0.00  ...   \n",
       "\n",
       "         state_Santo Domingo de los Tsachilas  state_Tungurahua  \\\n",
       "0                                        0.00              0.00   \n",
       "1                                        0.00              0.00   \n",
       "2                                        0.00              0.00   \n",
       "3                                        0.00              0.00   \n",
       "4                                        1.00              0.00   \n",
       "...                                       ...               ...   \n",
       "2400705                                  0.00              0.00   \n",
       "2400706                                  0.00              1.00   \n",
       "2400707                                  0.00              0.00   \n",
       "2400708                                  0.00              0.00   \n",
       "2400709                                  0.00              1.00   \n",
       "\n",
       "         national_holiday_1  national_not_holiday_1  local_holiday_1  \\\n",
       "0                      0.00                    0.00             0.00   \n",
       "1                      0.00                    0.00             0.00   \n",
       "2                      0.00                    0.00             0.00   \n",
       "3                      0.00                    0.00             0.00   \n",
       "4                      0.00                    0.00             0.00   \n",
       "...                     ...                     ...              ...   \n",
       "2400705                1.00                    0.00             0.00   \n",
       "2400706                0.00                    0.00             0.00   \n",
       "2400707                0.00                    0.00             0.00   \n",
       "2400708                0.00                    0.00             0.00   \n",
       "2400709                0.00                    0.00             0.00   \n",
       "\n",
       "         local_not_holiday_1  onpromotion  day  month  year  \n",
       "0                       0.00        -0.05 1.61  -0.06  0.61  \n",
       "1                       0.00        -0.21 0.12   0.23  0.27  \n",
       "2                       0.00        -0.21 0.86  -1.54 -1.55  \n",
       "3                       0.00        -0.13 1.61  -0.06  0.04  \n",
       "4                       0.00        -0.21 1.61  -0.06 -1.55  \n",
       "...                      ...          ...  ...    ...   ...  \n",
       "2400705                 0.00        -0.21 0.12   0.53 -0.64  \n",
       "2400706                 0.00        -0.21 0.86   0.53  0.27  \n",
       "2400707                 0.00        -0.21 0.86  -0.06 -0.98  \n",
       "2400708                 0.00         1.01 1.61  -0.65 -0.98  \n",
       "2400709                 0.00        -0.05 0.86  -0.06 -1.55  \n",
       "\n",
       "[2400710 rows x 96 columns]"
      ]
     },
     "execution_count": 23,
     "metadata": {},
     "output_type": "execute_result"
    }
   ],
   "source": [
    "X_trained_transformed = pd.DataFrame(X_train_prepared, columns=column_names)\n",
    "X_trained_transformed"
   ]
  },
  {
   "cell_type": "markdown",
   "metadata": {},
   "source": [
    "<!-- END QUESTION -->\n",
    "\n",
    "<br><br>\n"
   ]
  },
  {
   "cell_type": "markdown",
   "metadata": {},
   "source": [
    "<!-- BEGIN QUESTION -->\n",
    "\n",
    "## 6. Baseline model <a name=\"6\"></a>\n",
    "\n",
    "<hr>\n",
    "\n",
    "**Your tasks:**\n",
    "\n",
    "1. Try `scikit-learn`'s baseline model and report results.\n"
   ]
  },
  {
   "cell_type": "code",
   "execution_count": 24,
   "metadata": {},
   "outputs": [],
   "source": [
    "X_test = test_df.drop(columns=['sales'])\n",
    "y_test = test_df['sales']"
   ]
  },
  {
   "cell_type": "code",
   "execution_count": 25,
   "metadata": {},
   "outputs": [],
   "source": [
    "X_test_prepared = store_transform(date_transform(holiday_transform((X_test))))\n",
    "X_test_prepared_2 = preprocessor.transform(X_test_prepared)"
   ]
  },
  {
   "cell_type": "code",
   "execution_count": 26,
   "metadata": {},
   "outputs": [
    {
     "data": {
      "text/plain": [
       "1.0"
      ]
     },
     "execution_count": 26,
     "metadata": {},
     "output_type": "execute_result"
    }
   ],
   "source": [
    "# Use skikit learn baseline model for numerical variables\n",
    "dummy_clf = DummyClassifier(strategy=\"most_frequent\")\n",
    "dummy_clf.fit(X_train_prepared, y_train)\n",
    "y_pred = dummy_clf.predict(X_test_prepared_2)\n",
    "\n",
    "dummy_clf.score(y_test, y_pred)"
   ]
  },
  {
   "cell_type": "markdown",
   "metadata": {},
   "source": [
    "<!-- END QUESTION -->\n",
    "\n",
    "<br><br>\n"
   ]
  },
  {
   "cell_type": "markdown",
   "metadata": {},
   "source": [
    "<!-- BEGIN QUESTION -->\n",
    "\n",
    "## 7. Linear models <a name=\"7\"></a>\n",
    "\n",
    "<hr>\n",
    "\n",
    "**Your tasks:**\n",
    "\n",
    "1. Try a linear model as a first real attempt.\n",
    "2. Carry out hyperparameter tuning to explore different values for the complexity hyperparameter.\n",
    "3. Report cross-validation scores along with standard deviation.\n",
    "4. Summarize your results.\n"
   ]
  },
  {
   "cell_type": "code",
   "execution_count": 27,
   "metadata": {},
   "outputs": [],
   "source": [
    "# # Step 1: Create a model\n",
    "# pipe_ridge = make_pipeline(preprocessor, Ridge())\n",
    "# pipe_ridge.fit(X_train, y_train)\n",
    "# pipe_ridge.score(X_test_prepared, y_test)\n"
   ]
  },
  {
   "cell_type": "code",
   "execution_count": 28,
   "metadata": {},
   "outputs": [],
   "source": [
    "# # Step 2: Hyperparameter tuning\n",
    "# # Define the parameter grid\n",
    "# param_grid = {'ridge__alpha': np.arange(0, 10, 0.1)}\n",
    "\n",
    "# # Initialize the RandomizedSearchCV object\n",
    "# grid_search = RandomizedSearchCV(pipe_ridge, param_grid, cv=5, return_train_score=True, random_state=42)\n",
    "\n",
    "# # Fit the RandomizedSearchCV object to the data\n",
    "# grid_search.fit(X_train, y_train)\n",
    "\n",
    "# # Print the best parameters\n",
    "# print(grid_search.best_params_)\n",
    "\n",
    "# # Print the cross-validation scores\n",
    "# print(grid_search.cv_results_['mean_test_score'])\n",
    "\n",
    "# # Print the standard deviation of the cross-validation scores\n",
    "# print(grid_search.cv_results_['std_test_score'])"
   ]
  },
  {
   "cell_type": "markdown",
   "metadata": {},
   "source": [
    "_Type your answer here, replacing this text._\n"
   ]
  },
  {
   "cell_type": "markdown",
   "metadata": {},
   "source": [
    "<!-- END QUESTION -->\n",
    "\n",
    "<br><br>\n"
   ]
  },
  {
   "cell_type": "markdown",
   "metadata": {},
   "source": [
    "<!-- BEGIN QUESTION -->\n",
    "\n",
    "## 8. Different models <a name=\"8\"></a>\n",
    "\n",
    "<hr>\n",
    "\n",
    "**Your tasks:**\n",
    "\n",
    "1. Try other models aside from a linear model. One of these models should be a tree-based ensemble model.\n",
    "2. Summarize your results in terms of overfitting/underfitting and fit and score times. Can you beat a linear model?\n"
   ]
  },
  {
   "cell_type": "code",
   "execution_count": 30,
   "metadata": {},
   "outputs": [],
   "source": [
    "from sklearn import svm\n",
    "from sklearn.ensemble import AdaBoostRegressor\n",
    "models = {\n",
    "    #DecisionTreeRegressor(max_depth=8),\n",
    "    RandomForestRegressor(n_estimators=15, max_depth=4),\n",
    "    #svm.SVR(),\n",
    "    #KNeighborsRegressor(n_neighbors=5),\n",
    "    #AdaBoostRegressor(estimator=DecisionTreeRegressor(max_depth=3)),\n",
    "}\n",
    "RandomForestRegressor.score()"
   ]
  },
  {
   "cell_type": "code",
   "execution_count": 31,
   "metadata": {},
   "outputs": [
    {
     "name": "stdout",
     "output_type": "stream",
     "text": [
      "0.6291993112856504\n"
     ]
    }
   ],
   "source": [
    "for model in models:\n",
    "    nonlin_pipe = make_pipeline(preprocessor, model)\n",
    "    nonlin_pipe.fit(X_train, y_train)\n",
    "    print(nonlin_pipe.score(X_test_prepared, y_test))"
   ]
  },
  {
   "cell_type": "code",
   "execution_count": 31,
   "metadata": {},
   "outputs": [],
   "source": [
    "def mean_std_cross_val_scores(model, X_train, y_train, **kwargs):\n",
    "    \"\"\"\n",
    "    Returns mean and std of cross validation\n",
    "    \"\"\"\n",
    "    scores = cross_validate(model, X_train, y_train, **kwargs)\n",
    "\n",
    "    mean_scores = pd.DataFrame(scores).mean()\n",
    "    std_scores = pd.DataFrame(scores).std()\n",
    "    out_col = []\n",
    "\n",
    "    for i in range(len(mean_scores)):\n",
    "        out_col.append((f\"%0.3f (+/- %0.3f)\" % (mean_scores[i], std_scores[i])))\n",
    "\n",
    "    return pd.Series(data=out_col, index=mean_scores.index)"
   ]
  },
  {
   "cell_type": "code",
   "execution_count": 32,
   "metadata": {},
   "outputs": [],
   "source": [
    "results = pd.DataFrame()\n",
    "scoring_metric = \"neg_mean_absolute_error\"\n",
    "pipe_knn = make_pipeline(preprocessor, KNeighborsRegressor(n_jobs=-1))\n",
    "pipe_dt = make_pipeline(preprocessor, DecisionTreeRegressor(random_state=42, max_depth=5))\n",
    "pipe_svc = make_pipeline(preprocessor, SVC(random_state=42))\n",
    "\n",
    "classifiers = {\n",
    "    \"KNN\": pipe_knn,\n",
    "    \"Decision Tree\": pipe_dt,\n",
    "    \"SVC\": pipe_svc\n",
    "}\n",
    "\n",
    "for (name, model) in classifiers.items():\n",
    "    results[name] = mean_std_cross_val_scores(\n",
    "        model, X_train, y_train, return_train_score=True, scoring=scoring_metric\n",
    "    )"
   ]
  },
  {
   "cell_type": "markdown",
   "metadata": {},
   "source": [
    "_Type your answer here, replacing this text._\n"
   ]
  },
  {
   "cell_type": "markdown",
   "metadata": {},
   "source": [
    "<!-- END QUESTION -->\n",
    "\n",
    "<br><br>\n"
   ]
  },
  {
   "cell_type": "markdown",
   "metadata": {},
   "source": [
    "<!-- BEGIN QUESTION -->\n",
    "\n",
    "## 9. Feature selection <a name=\"9\"></a>\n",
    "\n",
    "<hr>\n",
    "\n",
    "**Your tasks:**\n",
    "\n",
    "Make some attempts to select relevant features. Do the results improve with feature selection? Summarize your results. If you see improvements in the results, keep feature selection in your pipeline. If not, you may abandon it.\n"
   ]
  },
  {
   "cell_type": "code",
   "execution_count": null,
   "metadata": {},
   "outputs": [],
   "source": [
    "# Your code here\n",
    "lr = make_pipeline(preprocessor, Ridge(alpha=2.2))\n",
    "lr.fit(X_train, y_train)\n",
    "\n",
    "lr_coefs = pd.DataFrame(\n",
    "    data=lr.named_steps[\"ridge\"].coef_, index=column_names, columns=[\"Coefficient\"]\n",
    ")\n",
    "\n",
    "# separate negative from positive coefficients\n",
    "lr_coefs[\"Positive\"] = lr_coefs[\"Coefficient\"] > 0\n",
    "lr_coefs[\"Negative\"] = lr_coefs[\"Coefficient\"] < 0\n",
    "\n",
    "display(lr_coefs[\"Positive\"].sort_values(ascending=False))\n",
    "display(lr_coefs[\"Negative\"].sort_values(ascending=True))"
   ]
  },
  {
   "cell_type": "code",
   "execution_count": null,
   "metadata": {},
   "outputs": [],
   "source": [
    "lr_coefs_family = lr_coefs.loc[lr_coefs.index.str.startswith(\"family_\")]\n",
    "lr_coefs_family"
   ]
  },
  {
   "cell_type": "code",
   "execution_count": null,
   "metadata": {},
   "outputs": [],
   "source": [
    "lr_coefs_city = lr_coefs.loc[lr_coefs.index.str.startswith(\"city_\")]\n",
    "lr_coefs_city\n",
    "lr_coefs_states = lr_coefs.loc[lr_coefs.index.str.startswith(\"state_\")]\n",
    "lr_coefs_states"
   ]
  },
  {
   "cell_type": "markdown",
   "metadata": {},
   "source": [
    "_Type your answer here, replacing this text._\n"
   ]
  },
  {
   "cell_type": "markdown",
   "metadata": {},
   "source": [
    "<!-- END QUESTION -->\n",
    "\n",
    "<br><br>\n"
   ]
  },
  {
   "cell_type": "markdown",
   "metadata": {},
   "source": [
    "<!-- BEGIN QUESTION -->\n",
    "\n",
    "## 10. Hyperparameter optimization <a name=\"10\"></a>\n",
    "\n",
    "<hr>\n",
    "\n",
    "**Your tasks:**\n",
    "\n",
    "Make some attempts to optimize hyperparameters for the models you've tried and summarize your results. In at least one case you should be optimizing multiple hyperparameters for a single model. You may use `sklearn`'s methods for hyperparameter optimization or fancier Bayesian optimization methods.\n",
    "\n",
    "- [GridSearchCV](http://scikit-learn.org/stable/modules/generated/sklearn.model_selection.GridSearchCV.html)\n",
    "- [RandomizedSearchCV](http://scikit-learn.org/stable/modules/generated/sklearn.model_selection.RandomizedSearchCV.html)\n",
    "- [scikit-optimize](https://github.com/scikit-optimize/scikit-optimize)\n"
   ]
  },
  {
   "cell_type": "code",
   "execution_count": null,
   "metadata": {},
   "outputs": [],
   "source": [
    "# Your code here\n"
   ]
  },
  {
   "cell_type": "markdown",
   "metadata": {},
   "source": [
    "_Type your answer here, replacing this text._\n"
   ]
  },
  {
   "cell_type": "markdown",
   "metadata": {},
   "source": [
    "<!-- END QUESTION -->\n",
    "\n",
    "<br><br>\n"
   ]
  },
  {
   "cell_type": "markdown",
   "metadata": {},
   "source": [
    "<!-- BEGIN QUESTION -->\n",
    "\n",
    "## 11. Interpretation and feature importances <a name=\"11\"></a>\n",
    "\n",
    "<hr>\n",
    "\n",
    "**Your tasks:**\n",
    "\n",
    "1. Use the methods we saw in class (e.g., `eli5`, `shap`) (or any other methods of your choice) to examine the most important features of one of the non-linear models.\n",
    "2. Summarize your observations.\n"
   ]
  },
  {
   "cell_type": "code",
   "execution_count": null,
   "metadata": {},
   "outputs": [],
   "source": [
    "# Your code here"
   ]
  },
  {
   "cell_type": "markdown",
   "metadata": {},
   "source": [
    "_Type your answer here, replacing this text._\n"
   ]
  },
  {
   "cell_type": "markdown",
   "metadata": {},
   "source": [
    "<!-- END QUESTION -->\n",
    "\n",
    "<br><br>\n"
   ]
  },
  {
   "cell_type": "markdown",
   "metadata": {
    "tags": []
   },
   "source": [
    "<!-- BEGIN QUESTION -->\n",
    "\n",
    "## 12. Results on the test set <a name=\"12\"></a>\n",
    "\n",
    "<hr>\n",
    "\n",
    "**Your tasks:**\n",
    "\n",
    "1. Try your best performing model on the test data (from train test split) and report test scores.\n",
    "2. Do the test scores agree with the validation scores from before? To what extent do you trust your results? Do you think you've had issues with optimization bias?\n",
    "3. Take one or two test predictions and explain these individual predictions (e.g., with SHAP force plots).\n"
   ]
  },
  {
   "cell_type": "code",
   "execution_count": null,
   "metadata": {},
   "outputs": [],
   "source": [
    "# Your code here"
   ]
  },
  {
   "cell_type": "markdown",
   "metadata": {},
   "source": [
    "_Type your answer here, replacing this text._\n"
   ]
  },
  {
   "cell_type": "markdown",
   "metadata": {},
   "source": [
    "<!-- END QUESTION -->\n",
    "\n",
    "<br><br>\n"
   ]
  },
  {
   "cell_type": "markdown",
   "metadata": {},
   "source": [
    "<!-- BEGIN QUESTION -->\n",
    "\n",
    "## 13. Submit the predictions to Kaggle <a name=\"13\"></a>\n",
    "\n",
    "<hr>\n",
    "\n",
    "**Your tasks:**\n",
    "\n",
    "Retrain the best model on the whole training dataset and upload the predicted output on the test set to Kaggle. Report your final test score.\n"
   ]
  },
  {
   "cell_type": "code",
   "execution_count": null,
   "metadata": {},
   "outputs": [],
   "source": [
    "# Your code here"
   ]
  },
  {
   "cell_type": "markdown",
   "metadata": {},
   "source": [
    "_Type your answer here, replacing this text._\n"
   ]
  },
  {
   "cell_type": "markdown",
   "metadata": {},
   "source": [
    "<!-- END QUESTION -->\n",
    "\n",
    "<br><br>\n"
   ]
  },
  {
   "cell_type": "markdown",
   "metadata": {},
   "source": [
    "<!-- BEGIN QUESTION -->\n",
    "\n",
    "## 14. Your takeaway <a name=\"14\"></a>\n",
    "\n",
    "<hr>\n",
    "\n",
    "**Your tasks:**\n",
    "\n",
    "What is your biggest takeaway from the supervised machine learning material we have learned so far? Please write thoughtful answers. Discuss other ideas that you did not try but could potentially improve the performance/interpretability .\n"
   ]
  },
  {
   "cell_type": "markdown",
   "metadata": {},
   "source": [
    "<!-- END QUESTION -->\n",
    "\n",
    "<br><br>\n"
   ]
  }
 ],
 "metadata": {
  "kernelspec": {
   "display_name": "base",
   "language": "python",
   "name": "python3"
  },
  "language_info": {
   "codemirror_mode": {
    "name": "ipython",
    "version": 3
   },
   "file_extension": ".py",
   "mimetype": "text/x-python",
   "name": "python",
   "nbconvert_exporter": "python",
   "pygments_lexer": "ipython3",
   "version": "3.11.4"
  },
  "otter": {
   "OK_FORMAT": true,
   "tests": {}
  }
 },
 "nbformat": 4,
 "nbformat_minor": 4
}
